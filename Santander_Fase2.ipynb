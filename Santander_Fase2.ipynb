{
  "nbformat": 4,
  "nbformat_minor": 0,
  "metadata": {
    "colab": {
      "name": "Santander_Fase2.ipynb",
      "provenance": [],
      "collapsed_sections": []
    },
    "kernelspec": {
      "name": "python3",
      "display_name": "Python 3"
    },
    "language_info": {
      "name": "python"
    }
  },
  "cells": [
    {
      "cell_type": "code",
      "metadata": {
        "id": "M1khARXBa_tF"
      },
      "source": [
        "################################################################################\n",
        "\n",
        "#                            AULAS - BASICO\n",
        "\n",
        "################################################################################"
      ],
      "execution_count": null,
      "outputs": []
    },
    {
      "cell_type": "code",
      "metadata": {
        "id": "PTMqprauewts"
      },
      "source": [
        "################################################################################\n",
        "\n",
        "#                               AULA 03\n",
        "\n",
        "################################################################################"
      ],
      "execution_count": null,
      "outputs": []
    },
    {
      "cell_type": "code",
      "metadata": {
        "id": "uUInNiNXYSvR"
      },
      "source": [
        "# COMENTÁRIOS\n",
        "\n",
        "# O símbolo # é utilizado para se fazer um comentário simples.\n",
        "'''\n",
        "Para comentários de múltiplas linhas,\n",
        "são utilizadas 3 aspas simples.\n",
        "'''"
      ],
      "execution_count": null,
      "outputs": []
    },
    {
      "cell_type": "code",
      "metadata": {
        "id": "juhdu5HuXkWH"
      },
      "source": [
        "# VARIÁVEIS\n",
        "x = -10 # uma variável do tipo inteiro (int)\n",
        "y = 3.14 # uma variável do tipo real (float)\n",
        "escola = \"Let's Code\" # uma variável literal (string). As strings podem ser delimitadas por aspas simples ou duplas.\n",
        "primeiraAula = True # uma variável lógica (booleana). Os nomes True e False precisam começar com letra maúscula.\n"
      ],
      "execution_count": null,
      "outputs": []
    },
    {
      "cell_type": "code",
      "metadata": {
        "id": "mEg78VItX-i0"
      },
      "source": [
        "# FUNÇÃO TYPE\n",
        "# A função type() retorna o tipo da variável\n",
        "c = 10\n",
        "\n",
        "print(type(c))"
      ],
      "execution_count": null,
      "outputs": []
    },
    {
      "cell_type": "code",
      "metadata": {
        "id": "E_J3o-bnbNbK"
      },
      "source": [
        "################################################################################\n",
        "\n",
        "#                               AULA 04\n",
        "\n",
        "################################################################################"
      ],
      "execution_count": null,
      "outputs": []
    },
    {
      "cell_type": "code",
      "metadata": {
        "id": "gjVbjyzmaXi3"
      },
      "source": [
        "# Podemos fazer operações aritméticas simples\n",
        "a = 2 + 3  # Soma\n",
        "b = 2 - 3  # Subtração\n",
        "c = 2 * 3  # Multiplicação\n",
        "d = 2 / 3  # Divisão (O resultado desta divisão será sempre um FLOAT mesmo que ambos os operadores sejam inteiros)\n",
        "e = 2 // 3 # Divisão inteira (O resultado desta divisão será sempre um INTEIRO mesmo que ambos os operadores sejam float, truncando - jogando fora - a parte decimal do número)\n",
        "f = 2 ** 3 # Potência\n",
        "g = 2 % 3  # Resto de divisão\n",
        "\n",
        "print (\"a =\", a, \" b =\", b, \" c =\", c, \" d =\", d, \" e =\", e, \" f =\", f, \" g =\", g)"
      ],
      "execution_count": null,
      "outputs": []
    },
    {
      "cell_type": "code",
      "metadata": {
        "id": "6FFxrcYgbjCw"
      },
      "source": [
        "#Podemos fazer operações com variáveis não inteiras\n",
        "nome = input('Digite seu primeiro nome:')\n",
        "nome = nome + ' Schmitt'\n",
        "print(nome)"
      ],
      "execution_count": null,
      "outputs": []
    },
    {
      "cell_type": "code",
      "metadata": {
        "id": "AvsbI9VlbP8T"
      },
      "source": [
        "# OPERADORES LÓGICOS\n",
        "\n",
        "# not\n",
        "# and\n",
        "# or"
      ],
      "execution_count": null,
      "outputs": []
    },
    {
      "cell_type": "code",
      "metadata": {
        "id": "uMfjIqace_tG"
      },
      "source": [
        "################################################################################\n",
        "\n",
        "#                               AULA 05\n",
        "\n",
        "################################################################################"
      ],
      "execution_count": null,
      "outputs": []
    },
    {
      "cell_type": "code",
      "metadata": {
        "id": "nOwsQC8cfD9e"
      },
      "source": [
        "# Podemos ler valores do teclado com a função input().\n",
        "# Ela permite que a gente passe uma mensagem para o usuário.\n",
        "nome = input('Digite o seu nome: ')\n",
        "\n",
        "# Tudo que é lido por input() é considerado uma string (str).\n",
        "# Para tratar como outros tipos de dados é necessário realizar a conversão:\n",
        "'''\n",
        "int()\n",
        "float()\n",
        "str()\n",
        "bool()\n",
        "'''\n",
        "peso = float(input('Digite o seu peso: ')) # lê o peso como número real\n",
        "idade = int(input('Digite a sua idade: ')) # lê a idade como número inteiro\n",
        "\n",
        "print(nome, 'pesa', peso, 'kg e tem', idade, 'anos de idade.')"
      ],
      "execution_count": null,
      "outputs": []
    },
    {
      "cell_type": "code",
      "metadata": {
        "id": "TE_nr8skingm"
      },
      "source": [
        "################################################################################\n",
        "\n",
        "#                               AULA 06\n",
        "\n",
        "################################################################################"
      ],
      "execution_count": null,
      "outputs": []
    },
    {
      "cell_type": "code",
      "metadata": {
        "id": "94ENtrDoix5X"
      },
      "source": [
        "# IF, ELIF, ELSE"
      ],
      "execution_count": null,
      "outputs": []
    },
    {
      "cell_type": "code",
      "metadata": {
        "id": "QaWRo3g_inrk"
      },
      "source": [
        "exercicios = int(input('Quantos exercícios de Python vc já fez?'))\n",
        "\n",
        "if exercicios > 30:\n",
        "    print('Já está ficando profissional!')\n",
        "elif exercicios > 20:\n",
        "    print('Tá indo bem, bora fazer mais alguns!')\n",
        "elif exercicios > 10:\n",
        "    print('Vamos tirar o atraso?')\n",
        "else:\n",
        "    print('Xiiii...')"
      ],
      "execution_count": null,
      "outputs": []
    },
    {
      "cell_type": "code",
      "metadata": {
        "id": "nIoujy4JmFcR"
      },
      "source": [
        "################################################################################\n",
        "\n",
        "#                               AULA 07\n",
        "\n",
        "################################################################################"
      ],
      "execution_count": null,
      "outputs": []
    },
    {
      "cell_type": "code",
      "metadata": {
        "id": "2zRpCEQNmwz7"
      },
      "source": [
        "# EM PYTHON NÃO EXISTE O LOOPING \"FOR\". PARA SE FAZER UM \"FOR\" É NECESSÁRIO FAZER ISSO ATRAVÉS DE UM \"WHILE\".\n",
        "# EM PYTHON TAMBÉM É POSSÍVEL SE COLOCAR UM \"ELSE\" PARA O WHILE."
      ],
      "execution_count": null,
      "outputs": []
    },
    {
      "cell_type": "code",
      "metadata": {
        "id": "z0OzRyAAmG6S"
      },
      "source": [
        "# Testando a condição em loop com o while:\n",
        "horario = 1\n",
        "while 0 < horario < 6:\n",
        "    print('Você está no horario da madrugada')\n",
        "    horario = horario + 1\n",
        "else:\n",
        "    print('Você nao está no horario da madrugada')"
      ],
      "execution_count": null,
      "outputs": []
    },
    {
      "cell_type": "code",
      "metadata": {
        "id": "0qnItIJGmviH"
      },
      "source": [
        "# BREAK, CONTINUE\n",
        "# Caso existam whiles aninhados, o break/continue interrompe o looping while no qual ele está imediatemente contido.\n",
        "\n",
        "while True:\n",
        "    resposta = input('Digite OK: ')\n",
        "    if resposta == 'OK':\n",
        "        break\n",
        "\n"
      ],
      "execution_count": null,
      "outputs": []
    },
    {
      "cell_type": "code",
      "metadata": {
        "id": "wEPRpRCHfpUB"
      },
      "source": [
        "################################################################################\n",
        "\n",
        "#                    AULAS - ESTRUTURAS AVANÇADAS\n",
        "\n",
        "################################################################################"
      ],
      "execution_count": null,
      "outputs": []
    },
    {
      "cell_type": "code",
      "metadata": {
        "id": "5b8VG83GfpcR"
      },
      "source": [
        "################################################################################\n",
        "\n",
        "#                     AULA 01 - LISTAS E TUPLAS\n",
        "\n",
        "################################################################################"
      ],
      "execution_count": null,
      "outputs": []
    },
    {
      "cell_type": "code",
      "metadata": {
        "id": "ANAZ_l56itXq"
      },
      "source": [
        "#                               LISTAS"
      ],
      "execution_count": null,
      "outputs": []
    },
    {
      "cell_type": "code",
      "metadata": {
        "id": "W24j4Watpwp1"
      },
      "source": [
        "# FUNÇÕES E MÉTODOS\n",
        "'''\n",
        "11min30seg\n",
        "A diferença entre funções e métodos é que um método é executado a partir do\n",
        "valor da variável.\n",
        "Ou seja, enquanto a função recebe \"uma variável\" como parâmetro, um método\n",
        "é uma ação que a variável pode executar. É por isso que um método é chamado se\n",
        "colocando um ponto \".\" após a variável.\n",
        "'''"
      ],
      "execution_count": null,
      "outputs": []
    },
    {
      "cell_type": "code",
      "metadata": {
        "id": "MnXXWrcmgAmF"
      },
      "source": [
        "# Criando uma lista vazia.\n",
        "listavazia = []\n",
        "\n",
        "# Criando uma lista com alguns valores.\n",
        "numeros = [1, 3, 7, 8, 9]\n",
        "\n",
        "# Listas podem mesclar diferentes tipos de valores.\n",
        "listamista = [14, \"let's code\", 0.1, True]\n",
        "\n",
        "# Acessamos cada elemento da lista através de um índice entre colchetes.\n",
        "# Os índices começam em 0.\n",
        "print(numeros[0])\n",
        "print(numeros[1])\n",
        "print(numeros[2])\n",
        "print(numeros[3])\n",
        "print(numeros[4])\n",
        "\n",
        "# Também é possível fazer uso de ÍNDICES NEGATIVOS.\n",
        "# Os índices negativos começam do final da lista em direção ao início.\n",
        "print(\"Índices Negativos\")\n",
        "print(numeros[-1]) # Retorna o valor 9\n",
        "print(numeros[-2]) # Retorna o valor 8\n",
        "print(numeros[-3]) # Retorna o valor 7\n",
        "print(numeros[-4]) # Retorna o valor 3\n",
        "print(numeros[-5]) # Retorna o valor 1\n",
        "\n",
        "# Listas são mutáveis: podemos alterar o valor de seus itens.\n",
        "numeros[2] = 5\n",
        "print(numeros)\n",
        "\n",
        "# Um jeito inteligente de trabalhar com listas é utilizando loops.\n",
        "indice = 0\n",
        "while indice < 5:\n",
        "    print(numeros[indice])\n",
        "    indice = indice + 1"
      ],
      "execution_count": null,
      "outputs": []
    },
    {
      "cell_type": "code",
      "metadata": {
        "id": "F3eUzZDOgIt0"
      },
      "source": [
        "# Funções de listas"
      ],
      "execution_count": null,
      "outputs": []
    },
    {
      "cell_type": "code",
      "metadata": {
        "id": "WKs3prBegXDT"
      },
      "source": [
        "# LEN()\n",
        "'''\n",
        "Algumas funções podem nos ajudar a trabalhar com listas.\n",
        "Ao percorrermos nossa lista com um while, poderíamos usar len() caso\n",
        "não soubéssemos o comprimento da lista.\n",
        "'''\n",
        "indice = 0\n",
        "while indice < len(numeros):\n",
        "    print(numeros[indice])\n",
        "    indice = indice + 1"
      ],
      "execution_count": null,
      "outputs": []
    },
    {
      "cell_type": "code",
      "metadata": {
        "id": "C7cCtPKVgI6D"
      },
      "source": [
        "# LISTA.APPEND()\n",
        "'''\n",
        "Outra função útil é lista.append(), que coloca um elemento\n",
        "novo ao final da lista.\n",
        "'''\n",
        "animais = []\n",
        "resposta = 's'\n",
        "while resposta == 's' or resposta == 'S':\n",
        "    resposta = input('Deseja adicionar um animal à lista (s/n)? ')\n",
        "    if (resposta == 's' or resposta == 'S'):\n",
        "        animal = input('Digite o nome do animal: ')\n",
        "        animais.append(animal) # adiciona o novo animal à lista\n",
        "print(animais)"
      ],
      "execution_count": null,
      "outputs": []
    },
    {
      "cell_type": "code",
      "metadata": {
        "id": "4A2as6v-rCHK"
      },
      "source": [
        "# LISTA.INSERT()\n",
        "\n",
        "'''\n",
        "Outra função útil é lista.insert(), que insere um elemento\n",
        "em uma posição específica da lista.\n",
        "'''\n",
        "jogadores = ['Ronaldo', 'Rivaldo', 'Ronaldo', 'Adriano']\n",
        "print(\"ANTES  -->\", jogadores)\n",
        "jogadores.insert(0, \"Cleber\")\n",
        "print(\"DEPOIS -->\", jogadores)"
      ],
      "execution_count": null,
      "outputs": []
    },
    {
      "cell_type": "code",
      "metadata": {
        "id": "5H-FgvFTgJEm"
      },
      "source": [
        "# LISTA.REMOVE()\n",
        "'''\n",
        "A função lista.remove() deleta um elemento da lista.\n",
        "Mas dá erro se o elemento não existir.\n",
        "'''\n",
        "animal = input('Digite o animal a ser deletado da lista: ')\n",
        "animais.remove(animal)\n",
        "print(animais)"
      ],
      "execution_count": null,
      "outputs": []
    },
    {
      "cell_type": "code",
      "metadata": {
        "id": "BT8vBF8wsVl5"
      },
      "source": [
        "# LISTA.POP()\n",
        "\n",
        "'''\n",
        "Outra função útil é lista.pop(), que remove um elemento\n",
        "em uma posição específica da lista.\n",
        "Este método sempre retorna o elemento excluído.\n",
        "'''\n",
        "jogadores = ['Ronaldo', 'Rivaldo', 'Ronaldo', 'Adriano']\n",
        "print(\"ANTES              -->\", jogadores)\n",
        "print(\"ELEMENTO EXCLUÍDO  -->\", jogadores.pop(1))\n",
        "print(\"DEPOIS             -->\", jogadores)"
      ],
      "execution_count": null,
      "outputs": []
    },
    {
      "cell_type": "code",
      "metadata": {
        "id": "pKWMGuMkhEF_"
      },
      "source": [
        "# LISTA.COUNT()\n",
        "'''\n",
        "lista.count() conta quantas vezes um elemento aparece.\n",
        "'''\n",
        "jogadores = ['Ronaldo', 'Rivaldo', 'Ronaldo', 'Adriano']\n",
        "ronaldos = jogadores.count('Ronaldo')\n",
        "print(jogadores)\n",
        "print('Quantidade de Ronaldos: ', ronaldos)"
      ],
      "execution_count": null,
      "outputs": []
    },
    {
      "cell_type": "code",
      "metadata": {
        "id": "mgGIvDCyouxl"
      },
      "source": [
        "# IN\n",
        "'''\n",
        "O comando \"in\" serve para procurar um elemento dentro de uma lista.\n",
        "'''\n",
        "\n",
        "jogadores = ['Ronaldo', 'Rivaldo', 'Ronaldo', 'Adriano']\n",
        "print(\"Ronaldo in jogadores     -->\", \"Ronaldo\" in jogadores)\n",
        "print(\"Cleber in jogadores      -->\", \"Cleber\" in jogadores)\n",
        "print(\"Cleber not in jogadores  -->\", \"Cleber\" not in jogadores)"
      ],
      "execution_count": null,
      "outputs": []
    },
    {
      "cell_type": "code",
      "metadata": {
        "id": "RIsslpLChICb"
      },
      "source": [
        "# LISTA.INDEX()\n",
        "'''\n",
        "lista.index() busca em um elemento e fala em qual posição ele aparece.\n",
        "'''\n",
        "rivaldo = jogadores.index('Rivaldo')\n",
        "print(\"Rivaldo está na posição \", rivaldo)"
      ],
      "execution_count": null,
      "outputs": []
    },
    {
      "cell_type": "code",
      "metadata": {
        "id": "ZPmoR1-yhILd"
      },
      "source": [
        "# LISTA.SORT()\n",
        "'''\n",
        "lista.sort() ordena uma lista.\n",
        "'''\n",
        "jogadores.sort()\n",
        "print(\"jogadores em ordem alfabética: \", jogadores)"
      ],
      "execution_count": null,
      "outputs": []
    },
    {
      "cell_type": "code",
      "metadata": {
        "id": "oxNF2ZHRhIV0"
      },
      "source": [
        "# LISTA.MAX() / LISTA.MIN()\n",
        "'''\n",
        "As funções max(lista) e min(lista) obtém, respectivamente, o maior e o menor valor.\n",
        "'''\n",
        "digitos = [3, 1, 4, 1, 5, 9, 2, 6, 5]\n",
        "maior = max(digitos)\n",
        "menor = min(digitos)\n",
        "print(digitos)\n",
        "print(\"Maior = \", maior, \"e menor = \", menor)"
      ],
      "execution_count": null,
      "outputs": []
    },
    {
      "cell_type": "code",
      "metadata": {
        "id": "Tfl78NVLhIgw"
      },
      "source": [
        "# SLICE\n",
        "'''\n",
        "É possível se obter apenas uma parte de uma lista de forma bem simples utilizando\n",
        "o conceito de Splice. Para isso basta se utilizar da seguinte sintaxe:\n",
        "\n",
        "LISTA[\"índice inicial\" : \"índice final\"]\n",
        "\n",
        "Lembrando que o \"índice final\" é não inclusivo, ou seja, a posição por ele determinada\n",
        "não fará parte da lista resultado.\n",
        "'''\n",
        "# Posição dos Elementos da Lista\n",
        "#                  0          1       2         3             4\n",
        "nomes_paises = [\"Brasil\", \"Canadá\", \"EUA\", \"Austrália\", \"Inglaterra\"]\n",
        "\n",
        "print(\"nomes_paises[1:3]  -->\", nomes_paises[1:3])\n",
        "# Lembrando que no Slice o parâmetro final é não inclusivo, ou seja, o resultado\n",
        "# será uma lista iniciando com o conteúdo da posição 1 da lista nomes_paises\n",
        "# e terminando na posição imediatamente anterio a posição 3, no caso, a \n",
        "# posição 2 da lista nomes_paises.\n",
        "print(\"nomes_paises[1:-1] -->\", nomes_paises[1:-1])\n",
        "print(\"nomes_paises[2:]   -->\", nomes_paises[2:])\n",
        "print(\"nomes_paises[:3]   -->\", nomes_paises[:3])\n",
        "print(\"nomes_paises[:]    -->\", nomes_paises[:])"
      ],
      "execution_count": null,
      "outputs": []
    },
    {
      "cell_type": "code",
      "metadata": {
        "id": "iDsffrp-i1NS"
      },
      "source": [
        "# SLICE com STEP\n",
        "'''\n",
        "Desta forma é possível se pegar elementos de uma lista \"pulando\" um determinado\n",
        "número de elementos com a seguinte sintaxe:\n",
        "\n",
        "LISTA[\"índice inicial\" : \"índice final\" : \"passo/step\"]\n",
        "'''\n",
        "# Posição dos Elementos da Lista\n",
        "#                  0          1       2         3             4\n",
        "nomes_paises = [\"Brasil\", \"Canadá\", \"EUA\", \"Austrália\", \"Inglaterra\"]\n",
        "print(\"nomes_paises[:]    -->\", nomes_paises[:])\n",
        "\n",
        "print(\"nomes_paises[::2]  -->\", nomes_paises[::2])\n",
        "\n",
        "# Também é possível se inverter os elementos de uma lista utilizando um step negativo.\n",
        "print(\"nomes_paises[::-1] -->\", nomes_paises[::-1])\n"
      ],
      "execution_count": null,
      "outputs": []
    },
    {
      "cell_type": "code",
      "metadata": {
        "id": "ecVdNhZLi1TH"
      },
      "source": [
        "#                               TUPLAS"
      ],
      "execution_count": null,
      "outputs": []
    },
    {
      "cell_type": "code",
      "metadata": {
        "id": "boVee95ei1X_"
      },
      "source": [
        "'''\n",
        "Uma Tupla é uma lista de constantes.\n",
        "Você define os elementos que possuirá na sua inicialização.\n",
        "E uma vez definidos os elementos, a Tupla - e, consequentemente, os\n",
        "seus elementos - não pode mais ser alterada.\n",
        "'''"
      ],
      "execution_count": null,
      "outputs": []
    },
    {
      "cell_type": "code",
      "metadata": {
        "id": "Hj84qyJJi1cC"
      },
      "source": [
        "# Uma tupla é uma coleção de objetos que lembra muito as listas.\n",
        "\n",
        "# Ao invés de colchetes, usamos parênteses para declarar as tuplas:\n",
        "numeros = (1,2,3,5,7,11)\n",
        "\n",
        "# Podemos declarar sem parênteses também:\n",
        "numeros = 1,2,3,5,7,11\n",
        "\n",
        "# Para acessar um valor, utilizamos a mesma sintaxe das listas:\n",
        "print(numeros[4])\n",
        "print(type(numeros))\n",
        "\n",
        "'''\n",
        "Porém, tuplas são imutáveis: não é possível adicionar ou modificar valores.\n",
        "Descomentar a linha abaixo provocará erro de execução:\n",
        "'''\n",
        "# numeros[4] = 8"
      ],
      "execution_count": null,
      "outputs": []
    },
    {
      "cell_type": "code",
      "metadata": {
        "id": "g52F-fJoYQre"
      },
      "source": [
        "# TUPLA DE 1 ELEMENTO"
      ],
      "execution_count": null,
      "outputs": []
    },
    {
      "cell_type": "code",
      "metadata": {
        "id": "ScaycGLOYQxS"
      },
      "source": [
        "# Para se declarar uma Tupla que contém apenas 1 elemento, basta utilizar\n",
        "# a sintaxe a seguir:"
      ],
      "execution_count": null,
      "outputs": []
    },
    {
      "cell_type": "code",
      "metadata": {
        "id": "6poVlcJUYfg9"
      },
      "source": [
        "nome = \"Cleber\",\n",
        "# Ao colocar uma vírgula, o Python já sabe que se trata de uma Tupla invés de\n",
        "# uma variável comum.\n",
        "print(\"nome = Cleber\", nome, \" -->  Tipo :\", type(nome))\n",
        "\n",
        "nome2 = (\"Cleber\",)\n",
        "print(\"nome2 = Cleber\", nome2, \" -->  Tipo :\", type(nome2))"
      ],
      "execution_count": null,
      "outputs": []
    },
    {
      "cell_type": "code",
      "metadata": {
        "id": "xOVPcHgyX3dN"
      },
      "source": [
        "# TUPLE() / LIST()"
      ],
      "execution_count": null,
      "outputs": []
    },
    {
      "cell_type": "code",
      "metadata": {
        "id": "pUPviUZki1gY"
      },
      "source": [
        "# Podemos gerar uma tupla a partir de uma lista...\n",
        "lista1 = [3, 1, 4, 1, 5, 9, 2, 6, 5]\n",
        "tupla1 = tuple(lista1)\n",
        "print(tupla1)\n",
        "\n",
        "# ...ou uma lista a partir de uma tupla:\n",
        "tupla2 = [1, 6, 1, 8]\n",
        "lista2 = list(tupla2)\n",
        "print(lista2)"
      ],
      "execution_count": null,
      "outputs": []
    },
    {
      "cell_type": "code",
      "metadata": {
        "id": "uDVkvmfhi1j0"
      },
      "source": [
        "# UNPACKING"
      ],
      "execution_count": null,
      "outputs": []
    },
    {
      "cell_type": "code",
      "metadata": {
        "id": "4QFoAda-i1m-"
      },
      "source": [
        "# Também pode-se usar o UNPACKING com uma tupla:\n",
        "numeros = 3, 1, 4, 5, 9, 2\n",
        "a, b, c, d, e, f = numeros # \"desempacota\" a tupla numeros\n",
        "print(\"O primeiro vale:\", a, \"e o ultimo vale:\", f)"
      ],
      "execution_count": null,
      "outputs": []
    },
    {
      "cell_type": "code",
      "metadata": {
        "id": "8DKGhVgIZ5fk"
      },
      "source": [
        "# Outra forma de se utilizar o UNPACKING é através do *\n",
        "numeros = 3, 1, 4, 5, 9, 2\n",
        "print(*numeros)"
      ],
      "execution_count": null,
      "outputs": []
    },
    {
      "cell_type": "code",
      "metadata": {
        "id": "ZkPklZAoavTb"
      },
      "source": [
        "################################################################################\n",
        "\n",
        "#                          AULA 02 - STRINGS\n",
        "\n",
        "################################################################################"
      ],
      "execution_count": null,
      "outputs": []
    },
    {
      "cell_type": "code",
      "metadata": {
        "id": "KbcFvb-javYW"
      },
      "source": [
        "'''\n",
        "Uma STRING é IMUTÁVEL.\n",
        "Logo, podemos dizer que uma String é um tipo especial de Tupla.\n",
        "Consequentemente, os métodos é funções que podemos utilizar com Tuplas\n",
        "também poderão ser utilizados com Strings.\n",
        "\n",
        "Documentação com os métodos para Strings:\n",
        "https://docs.python.org/3.8/library/stdtypes.html#str\n",
        "'''"
      ],
      "execution_count": null,
      "outputs": []
    },
    {
      "cell_type": "code",
      "metadata": {
        "id": "l8yA82v_avch"
      },
      "source": [
        "# Suponhamos que temos a seguinte string:\n",
        "\n",
        "frase = 'uma FRASE'\n",
        "\n",
        "# Podemos acessar individualmente cada caractere em uma frase.\n",
        "# A ideia é a mesma de acessar uma lista:\n",
        "print(frase[0])\n",
        "print(frase[1])\n",
        "print(frase[2])\n",
        "\n",
        "tamanho = len(frase)\n",
        "print(\"A frase possui\", tamanho, \"caracteres\")\n",
        "\n",
        "# Porém, strings são imutáveis: não podemos alterar caracteres individuais\n",
        "# A linha abaixo, se for descomentada, dará erro no programa:\n",
        "# frase[4] = 'C'\n",
        "\n",
        "# Podemos converter strings para listas:\n",
        "listafrase = list(frase)\n",
        "print(listafrase)"
      ],
      "execution_count": null,
      "outputs": []
    },
    {
      "cell_type": "code",
      "metadata": {
        "id": "eWIDm8EbavhB"
      },
      "source": [
        "# JOIN"
      ],
      "execution_count": null,
      "outputs": []
    },
    {
      "cell_type": "code",
      "metadata": {
        "id": "Cs5yulTJavlC"
      },
      "source": [
        "# A função join() intercala cada elemento de uma lista com uma string.\n",
        "frase = 'uma FRASE'\n",
        "listafrase = list(frase)\n",
        "stringfinal = '-'.join(listafrase)\n",
        "print(stringfinal)"
      ],
      "execution_count": null,
      "outputs": []
    },
    {
      "cell_type": "code",
      "metadata": {
        "id": "ZEljdJppavoy"
      },
      "source": [
        "# Usar um join() com uma string vazia é útil para transformar a lista de volta\n",
        "# em string:\n",
        "frase = 'uma FRASE'\n",
        "listafrase = list(frase)\n",
        "stringfinal = ''.join(listafrase)\n",
        "print(stringfinal)"
      ],
      "execution_count": null,
      "outputs": []
    },
    {
      "cell_type": "code",
      "metadata": {
        "id": "oM_14-b1ZXgM"
      },
      "source": [
        "# CAPITALIZE() / TITLE() / UPPER() / LOWER() / REPLACE()"
      ],
      "execution_count": null,
      "outputs": []
    },
    {
      "cell_type": "code",
      "metadata": {
        "id": "ssWp56X5avsl"
      },
      "source": [
        "# Existem algumas funções interessantes que retornam a string \"tratada\":\n",
        "frase = 'uma FRASE'\n",
        "s1 = frase.capitalize() # 1a letra maiúscula, restante minúscula\n",
        "s2 = frase.title() # todo início de palavra em maiúscula, resto minúscula\n",
        "s3 = frase.upper() # string inteira em maiúscula\n",
        "s4 = frase.lower() # string inteira em minúscula\n",
        "s5 = frase.replace('F', 'C') # substitui a primeira substring pela segunda\n",
        "\n",
        "print(s1)\n",
        "print(s2)\n",
        "print(s3)\n",
        "print(s4)\n",
        "print(s5)\n",
        "# Note que NENHUMA delas ALTERA a string original, elas sempre retornam\n",
        "# a string nova.\n",
        "print('String original:', frase)"
      ],
      "execution_count": null,
      "outputs": []
    },
    {
      "cell_type": "code",
      "metadata": {
        "id": "0k-w20hQavxM"
      },
      "source": [
        "# SPLIT()"
      ],
      "execution_count": null,
      "outputs": []
    },
    {
      "cell_type": "code",
      "metadata": {
        "id": "Fpl9kDj3ZjPp"
      },
      "source": [
        "# Outra possibilidade com strings é quebrar a string em uma lista de substrings\n",
        "# Sempre que o caractere especificado é encontrado, a string é quebrada\n",
        "frase = 'uma FRASE'\n",
        "quebra1 = frase.split(' ') # quebra a frase no caractere espaço em branco\n",
        "quebra2 = s3.split('A') # quebra a frase em maiúsculas no caractere 'A'\n",
        "\n",
        "print(quebra1)\n",
        "print(quebra2)"
      ],
      "execution_count": null,
      "outputs": []
    },
    {
      "cell_type": "code",
      "metadata": {
        "id": "7twHNrYW0gid"
      },
      "source": [
        "# STRIP()"
      ],
      "execution_count": null,
      "outputs": []
    },
    {
      "cell_type": "code",
      "metadata": {
        "id": "ey9ZYBpi0ni_"
      },
      "source": [
        "# Remove os espaços no início e final da String.\n",
        "cabecalho = \"             MENU PRNCIPAL             \"\n",
        "print(\"\\\"\" + cabecalho.strip() + \"\\\"\")"
      ],
      "execution_count": null,
      "outputs": []
    },
    {
      "cell_type": "code",
      "metadata": {
        "id": "Q26JMyjzZvEW"
      },
      "source": [
        "# Podemos inserir quebras de linha com '\\n'\n",
        "frase = 'uma\\nFRASE'\n",
        "print(frase)\n",
        "# Podemos inserir tabulação com '\\t'\n",
        "frase = 'uma\\n\\tFRASE'\n",
        "print(frase)\n",
        "# Para conseguir representar a barra '\\', precisamos de 2 barras:\n",
        "frase = 'uma\\\\FRASE'"
      ],
      "execution_count": null,
      "outputs": []
    },
    {
      "cell_type": "code",
      "metadata": {
        "id": "Bn4vkJcS2Qv9"
      },
      "source": [
        "################################################################################\n",
        "\n",
        "#                          AULA 03 - STRINGS 2\n",
        "\n",
        "################################################################################"
      ],
      "execution_count": null,
      "outputs": []
    },
    {
      "cell_type": "code",
      "metadata": {
        "id": "UcpXNa7B2Wdn"
      },
      "source": [
        "# Dois operadores aritméticos possuem um comportamento especial em strings:\n",
        "# Operador de soma (+): concatena (une) 2 strings.\n",
        "palavra1 = \"Let's\"\n",
        "palavra2 = \"Code\"\n",
        "palavra3 = palavra1 + palavra2\n",
        "print(palavra3)"
      ],
      "execution_count": null,
      "outputs": []
    },
    {
      "cell_type": "code",
      "metadata": {
        "id": "wdmUK1PN2buH"
      },
      "source": [
        "# Operador de multiplicação (*): copia uma string 'n' vezes:\n",
        "palavra = 'uma'\n",
        "trespalavras = 3*palavra\n",
        "print(trespalavras)"
      ],
      "execution_count": null,
      "outputs": []
    },
    {
      "cell_type": "code",
      "metadata": {
        "id": "Q8hyXiOK3HOn"
      },
      "source": [
        "# Formatação de Strings\n",
        "'''\n",
        "Uma última função interessante de strings é o .format() Para entender como ela funciona,\n",
        "podemos pensar em um contrato. É normal que ele venha com campos em branco para serem\n",
        "preenchidos posteriormente. Ex:\n",
        "Eu, ______________, portador do RG ________________ e nascido ao dia //, autorizo o uso de minha imagem.\n",
        "Ao inserirmos no contrato nossas informações pessoais, ele se torna completo.\n",
        "O .format() serve para \"preencher\" os \"campos em branco\" de uma string.\n",
        "'''\n",
        "#Os campos em branco serão representados por pares de chave: {}\n",
        "\n",
        "'''\n",
        "Link para a documentação do .format()\n",
        "https://pyformat.info\n",
        "'''"
      ],
      "execution_count": null,
      "outputs": []
    },
    {
      "cell_type": "code",
      "metadata": {
        "id": "v1VCl4fZ3iOz"
      },
      "source": [
        "prod = 'chocolate'\n",
        "preco = 3.14\n",
        "print('O produto {} custa {}.'.format(prod, preco))\n",
        "\n",
        "# Na linha acima, prod substituirá o primeiro {}, e preco o segundo {}.\n",
        "# Saída: O produto chocolate custa 3.14."
      ],
      "execution_count": null,
      "outputs": []
    },
    {
      "cell_type": "code",
      "metadata": {
        "id": "OK7Lx7Gn3vBD"
      },
      "source": [
        "# Pode-se chamar as variávies em diferentes ordens:\n",
        "\n",
        "print('{2}, {1} and {0}'.format('a', 'b', 'c'))\n",
        "# Saída: c, b and a\n",
        "\n",
        "print('{0}{1}{0}'.format('abra', 'cad'))\n",
        "# Saída: abracadabra"
      ],
      "execution_count": null,
      "outputs": []
    },
    {
      "cell_type": "code",
      "metadata": {
        "id": "8a-ZqyvW3L8l"
      },
      "source": [
        "# É possível colocar algumas opções especiais de formatação. Por exemplo:\n",
        "stringoriginal = 'O litro da gasolina custa {:.2f}'\n",
        "'''\n",
        ": indica que passaremos opções\n",
        ".2 indica apenas 2 casas após o ponto decimal\n",
        "f indica que é um float\n",
        "'''\n",
        "preco = 3.14159265\n",
        "stringcompleta = stringoriginal.format(preco)\n",
        "print(stringcompleta)\n",
        "# Saída: O litro da gasolina custa 3.14\n",
        "# O preço sai com apenas 2 casas após a vírgula!"
      ],
      "execution_count": null,
      "outputs": []
    },
    {
      "cell_type": "code",
      "metadata": {
        "id": "9I9L1Zmf35ss"
      },
      "source": [
        "# Podemos especificar um número de dígitos obrigatório por campo.\n",
        "# Vejamos o exemplo:\n",
        "\n",
        "dia = 1\n",
        "mes = 8\n",
        "ano = 2019\n",
        "data1 = '{}/{}/{}'.format(dia, mes, ano)\n",
        "print(data1)\n",
        "# Saída: 1/8/2019\n",
        "# O dia e o mês ocupam apenas 1 espaço\n",
        "\n",
        "\n",
        "data2 = '{:2d}/{:2d}/{:4d}'.format(dia, mes, ano)\n",
        "# A opção 'd' significa que o parâmetro é um número inteiro.\n",
        "print(data2)\n",
        "# Saída:  1/ 8/2019\n",
        "# Agora, dia e mês ocupam obrigatoriamente 2 espaços:  1/ 8/2019"
      ],
      "execution_count": null,
      "outputs": []
    },
    {
      "cell_type": "code",
      "metadata": {
        "id": "U5xnOMaZ4VLn"
      },
      "source": [
        "# Podemos forçar que os espaços em branco sejam preenchidos com o número 0:\n",
        "data3 = '{:02d}/{:02d}/{:04d}'.format(dia, mes, ano)\n",
        "print(data3)\n",
        "# Saída: 01/08/2019\n",
        "# Agora sim a data está no formato usual, dd/mm/aaaa: 01/08/2019"
      ],
      "execution_count": null,
      "outputs": []
    },
    {
      "cell_type": "code",
      "metadata": {
        "id": "qzSkyXdU4VzA"
      },
      "source": [
        "# f\"{}\"\n",
        "'''\n",
        "Um modo mais simples de utilizar o format é colocando apenas a letra f antes da\n",
        "String e as variáveis (contidas por chaves) diretamente dentro da String.\n",
        "'''\n",
        "nome = \"Pietro\"\n",
        "profissao = \"professor\"\n",
        "escola = \"Let's Code\"\n",
        "\n",
        "print(f\"{nome} é {profissao} da {escola}.\")\n",
        "# Saída: Pietro é professor da Let's Code."
      ],
      "execution_count": null,
      "outputs": []
    },
    {
      "cell_type": "code",
      "metadata": {
        "id": "eq9xZeQ0G8va"
      },
      "source": [
        "################################################################################\n",
        "\n",
        "#                          AULA 04 - DICIONÁRIOS\n",
        "\n",
        "################################################################################"
      ],
      "execution_count": null,
      "outputs": []
    },
    {
      "cell_type": "code",
      "metadata": {
        "id": "hdNq35h7HGVs"
      },
      "source": [
        "'''\n",
        "Um dicionário é uma coleção (associativa desordenada de elementos), assim como\n",
        "as listas e as tuplas (coleção oredenada de elementos). Porém, enquanto as tuplas\n",
        "eram indexadas por um índice, os dicionários são indexados por chaves (key-value pairs).\n",
        "Todo elemento em um dicionário possui uma chave e um valor. Chaves tipicamente\n",
        "são strings, valores podem ser qualquer tipo de dado.\n",
        "'''"
      ],
      "execution_count": null,
      "outputs": []
    },
    {
      "cell_type": "code",
      "metadata": {
        "id": "XReJh-1GHMkZ"
      },
      "source": [
        "# O dicionário é definido pelos símbolos { e }\n",
        "\n",
        "dicionario = {}\n",
        "\n",
        "# O dicionário não possui um \"append\".\n",
        "# Adicionamos valores diretamente:\n",
        "\n",
        "dicionario['cat'] = 'gato'\n",
        "dicionario['dog'] = 'cachorro'\n",
        "dicionario['mouse'] = 'rato'\n",
        "\n",
        "print(dicionario)\n",
        "print(type(dicionario))\n",
        "\n",
        "'''\n",
        "Saída:\n",
        "{'cat': 'gato', 'dog': 'cachorro', 'mouse': 'rato'}\n",
        "<class 'dict'>\n",
        "'''"
      ],
      "execution_count": null,
      "outputs": []
    },
    {
      "cell_type": "code",
      "metadata": {
        "id": "Z9nRjlpdH0p1"
      },
      "source": [
        "# DICIONÁRIOS SÃO MUTÁVEIS\n",
        "\n",
        "# Dicionários, assim como as listas, são mutáveis:\n",
        "dicionario['dog'] = 'cão'\n",
        "print(dicionario)\n",
        "# Saída: {'cat': 'gato', 'dog': 'cão', 'mouse': 'rato'}"
      ],
      "execution_count": null,
      "outputs": []
    },
    {
      "cell_type": "code",
      "metadata": {
        "id": "KughTWRNH8uv"
      },
      "source": [
        "# Podemos criar o dicionário diretamente também:\n",
        "dicionario2 = {'Curso': 'Python Pro', 'Linguagem':'Python', 'Módulo':2}\n",
        "print(dicionario2)\n",
        "# Saída: {'Curso': 'Python Pro', 'Linguagem': 'Python', 'Módulo': 2}"
      ],
      "execution_count": null,
      "outputs": []
    },
    {
      "cell_type": "code",
      "metadata": {
        "id": "bq_Z7AqkJ0fD"
      },
      "source": [
        "# Podemos adicionar novos elementos ao dicionário\n",
        "dicionario['eagle'] = 'águia'\n",
        "print(dicionario)"
      ],
      "execution_count": null,
      "outputs": []
    },
    {
      "cell_type": "code",
      "metadata": {
        "id": "bnjlAAzxIcD4"
      },
      "source": [
        "# Podemos utilizar o operador \"in\" para verificar se uma chave existe:\n",
        "if 'cat' in dicionario:\n",
        "    print('cat existe!') # Sim\n",
        "if 'bird' in dicionario:\n",
        "    print('bird existe!') # Não\n",
        "if 'gato' in dicionario:\n",
        "    print('gato existe!') # Não"
      ],
      "execution_count": null,
      "outputs": []
    },
    {
      "cell_type": "code",
      "metadata": {
        "id": "5KPpmHZ4Icw3"
      },
      "source": [
        "# KEYS() / VALUES() / ITEMS()"
      ],
      "execution_count": null,
      "outputs": []
    },
    {
      "cell_type": "code",
      "metadata": {
        "id": "hG5rBBfqIhSL"
      },
      "source": [
        "'''\n",
        "Também podemos utilizar as funções .keys() e .values() para obter listas\n",
        "com apenas as chaves ou apenas os valores do dicionário.\n",
        "'''\n",
        "chaves = dicionario.keys()\n",
        "print(chaves)\n",
        "# Saída: dict_keys(['cat', 'dog', 'mouse'])\n",
        "\n",
        "valores = dicionario.values()\n",
        "print(valores)\n",
        "# Saída:dict_values(['gato', 'cão', 'rato'])\n",
        "\n",
        "# Já a função .items(), retorna uma lista de tuplas (chave, valor) de um dicionário\n",
        "\n",
        "itens = dicionario.items()\n",
        "print(itens)\n",
        "# Saída:dict_items([('cat', 'gato'), ('dog', 'cão'), ('mouse', 'rato')])"
      ],
      "execution_count": null,
      "outputs": []
    },
    {
      "cell_type": "code",
      "metadata": {
        "id": "6Xp1VS-LKJrP"
      },
      "source": [
        "# COPY()\n",
        "'''\n",
        "Assim como nas listas, caso usemos o comando de atribuição em um dicionário,\n",
        "como por exemplo:\n",
        "  \n",
        "  dicionario_2 = dicionario_1\n",
        "\n",
        "Isto não faz uma cópia da variável \"dicionario_1\" para a variável \"dicionario_2\".\n",
        "Isto simplesmente cria um ponteiro. Ou seja, toda alteração realizada na variável\n",
        "\"dicionario_2\" será automaticamente refletida na variável \"dicionario_1\".\n",
        "\n",
        "Para se copiar uma variável dicionário, é necessário utilizar o método \"COPY()\".\n",
        "'''"
      ],
      "execution_count": null,
      "outputs": []
    },
    {
      "cell_type": "code",
      "metadata": {
        "id": "riPezqxAKNA3"
      },
      "source": [
        "dicionario_10 = {\n",
        "    1 : \"Cleber\",\n",
        "    2 : \"Presidente\",\n",
        "    3 : \"100%\"\n",
        "}\n",
        "print(\"dicionario_10 =\", dicionario_10)\n",
        "print(\"\\n\")\n",
        "\n",
        "dicionario_11 = dicionario_10\n",
        "dicionario_11[4] = \"Lígia\"\n",
        "\n",
        "print(\"dicionario_10 =\", dicionario_10)\n",
        "print(\"dicionario_11 =\", dicionario_11)\n",
        "print(\"\\n\")\n",
        "\n",
        "dicionario_12 = dicionario.copy()\n",
        "dicionario_12[5] = \"Navarro\"\n",
        "\n",
        "print(\"dicionario_10 =\", dicionario_10)\n",
        "print(\"dicionario_11 =\", dicionario_11)\n",
        "print(\"dicionario_12 =\", dicionario_12)\n"
      ],
      "execution_count": null,
      "outputs": []
    },
    {
      "cell_type": "code",
      "metadata": {
        "id": "NjMjnaijNFnF"
      },
      "source": [
        "# UPDATE()\n",
        "'''\n",
        "É utilizado para atualizar um dicionário.\n",
        "'''"
      ],
      "execution_count": null,
      "outputs": []
    },
    {
      "cell_type": "code",
      "metadata": {
        "id": "q0HkA8yFNVCb"
      },
      "source": [
        "dicionario_10 = {\n",
        "    1 : \"Cleber\",\n",
        "    2 : \"Presidente\",\n",
        "    3 : \"100%\",\n",
        "    4 : \"Teste\"\n",
        "}\n",
        "print(\"dicionario_10 =\", dicionario_10)\n",
        "print(\"\\n\")\n",
        "\n",
        "dicionario_11 = dicionario.copy()\n",
        "dicionario_11[4] = \"Lígia\"\n",
        "dicionario_11[5] = \"Navarro\"\n",
        "\n",
        "print(\"dicionario_10 =\", dicionario_10)\n",
        "print(\"dicionario_11 =\", dicionario_11)\n",
        "print(\"\\n\")\n",
        "\n",
        "dicionario_10.update(dicionario_11)\n",
        "print(\"dicionario_10 =\", dicionario_10)"
      ],
      "execution_count": null,
      "outputs": []
    },
    {
      "cell_type": "code",
      "metadata": {
        "id": "jdNlQzzAOlHG"
      },
      "source": [
        "# GET()\n",
        "'''\n",
        "O problema de utilizar a sintaxe \"dicionario['elemento']\" para acessar um\n",
        "elemento de um dicionário é que caso o elemento não exista, será gerado um erro.\n",
        "Para evitar que o erro seja gerado e interrompa a execução do programa, existe\n",
        "o método \"GET()\".\n",
        "Caso o elemento não exista, invés de retornar um erro, o método retorna \"None\".\n",
        "'''\n",
        "\n",
        "dicionario_10 = {\n",
        "    1 : \"Cleber\",\n",
        "    2 : \"Presidente\",\n",
        "    3 : \"100%\",\n",
        "}\n",
        "print(\"dicionario_10[5] =\", dicionario_10.get(4))"
      ],
      "execution_count": null,
      "outputs": []
    },
    {
      "cell_type": "code",
      "metadata": {
        "id": "ptRg525AP_PU"
      },
      "source": [
        "################################################################################\n",
        "\n",
        "#                         ESTRUTURAS DE REPETIÇÃO\n",
        "\n",
        "################################################################################"
      ],
      "execution_count": null,
      "outputs": []
    },
    {
      "cell_type": "code",
      "metadata": {
        "id": "rAqdHYseQGjb"
      },
      "source": [
        "################################################################################\n",
        "\n",
        "#                          AULA 05 - FOR\n",
        "\n",
        "################################################################################"
      ],
      "execution_count": null,
      "outputs": []
    },
    {
      "cell_type": "code",
      "metadata": {
        "id": "k_ukhuwafKX8"
      },
      "source": [
        "'''\n",
        "O comando \"FOR\" em Python é o equivalente ao comando \"FOR EACH\" de outras linguagens.\n",
        "\n",
        "O for é um tipo especial de loop feito para percorrer elementos de uma coleção.\n",
        "Acima vimos exemplos usando um while e um contador para percorrer uma lista.\n",
        "O for elimina a necessidade de inicializarmos um contador, incrementarmos e\n",
        "verificar a condição de parada. Sintaxe:\n",
        "\n",
        "for (variável temporária) in (lista):\n",
        "    # instruções...\n",
        "    # ...\n",
        "'''"
      ],
      "execution_count": null,
      "outputs": []
    },
    {
      "cell_type": "code",
      "metadata": {
        "id": "b6Ifpv4Af83m"
      },
      "source": [
        "# FOR com LISTAS e TUPLAS\n",
        "\n",
        "listaFor = [\"Cleber\", \"Presidente\", \"100%\"]\n",
        "tuplaFor = [\"Cleber\", \"Presidente\", \"100%\"]\n",
        "\n",
        "for item in listaFor:\n",
        "  print(item)\n",
        "  \n",
        "for item in tuplaFor:\n",
        "  print(item)"
      ],
      "execution_count": null,
      "outputs": []
    },
    {
      "cell_type": "code",
      "metadata": {
        "id": "hwPLQK9ajEvf"
      },
      "source": [
        "# FOR com DICIONÁRIOS\n",
        "\n",
        "'''\n",
        "No caso dos dicionários, o FOR iterage com apenas as chaves.\n",
        "Caso se queira trabalhar com os valores das chaves, é necessário se acessar estes\n",
        "valores através da chave.\n",
        "'''\n",
        "\n",
        "dicionario_20 = {\n",
        "    1 : \"Cleber\",\n",
        "    2 : \"Presidente\",\n",
        "    3 : \"100%\",\n",
        "}\n",
        "\n",
        "for key in dicionario_20:\n",
        "  print(f\"Key = {key} --> Value = {dicionario_20[key]}\")"
      ],
      "execution_count": null,
      "outputs": []
    },
    {
      "cell_type": "code",
      "metadata": {
        "id": "9iJ_ajC_gji_"
      },
      "source": [
        "# RANGE()\n",
        "'''\n",
        "Percorrendo sequências numéricas\n",
        "O for pode ser usado, junto com a função range(), para gerar sequências\n",
        "numéricas e contagens. Existem 3 meios de usar o range(): especificando 1, 2 ou\n",
        "3 parâmetros.\n",
        "'''"
      ],
      "execution_count": null,
      "outputs": []
    },
    {
      "cell_type": "code",
      "metadata": {
        "id": "kmGJHS5zg0Cv"
      },
      "source": [
        "# RANGE() 1 PARÂMETRO\n",
        "\n",
        "# Com 1 parâmetro, ele será interpretado como valor final (exclusivo).\n",
        "# O valor inicial será 0 e o incremento será 1.\n",
        "\n",
        "for numero in range(10):\n",
        "    print(numero)\n",
        "    # este exemplo imprime os números de 0 a 9, de um em um"
      ],
      "execution_count": null,
      "outputs": []
    },
    {
      "cell_type": "code",
      "metadata": {
        "id": "7437vTQelBB5"
      },
      "source": [
        "# EXEMPLO DO RANGE UTILIZADO PARA ALTERAR UMA LISTA\n",
        "listaRange = [\"Cleber\", \"Presidente\", \"Teste\"]\n",
        "print(listaRange)\n",
        "print(\"\\n\")\n",
        "\n",
        "for indice in range(len(listaRange)):\n",
        "  if str(listaRange[indice]).upper() == str(\"teste\").upper():\n",
        "    listaRange[indice] = \"100%\"\n",
        "\n",
        "print(listaRange)\n"
      ],
      "execution_count": null,
      "outputs": []
    },
    {
      "cell_type": "code",
      "metadata": {
        "id": "xSRQXGYwg-Bk"
      },
      "source": [
        "# RANGE() 2 PARÂMETROS\n",
        "\n",
        "# Com 2 parâmetros, o primeiro será o valor inicial (inclusivo) e o\n",
        "# segundo será o final (exclusivo).\n",
        "# O incremento continuará sendo 1.\n",
        "\n",
        "for numero in range(1,11):\n",
        "    print(numero)\n",
        "    # este exemplo imprime os números de 1 a 10, de um em um"
      ],
      "execution_count": null,
      "outputs": []
    },
    {
      "cell_type": "code",
      "metadata": {
        "id": "VKSCuj71hANo"
      },
      "source": [
        "# RANGE() 3 PARÂMETROS\n",
        "\n",
        "# Com 3 parâmetros, o terceiro será interpretado como incremento.\n",
        "for numero in range(1,20,2):\n",
        "    print(numero)\n",
        "    # este exemplo imprime os ímpares positivos menores do que 20\n",
        "    # ele começa valendo 1 e salta de 2 em 2 até atingir ou passar 20"
      ],
      "execution_count": null,
      "outputs": []
    },
    {
      "cell_type": "code",
      "metadata": {
        "id": "tFt1RvCnhpoD"
      },
      "source": [
        "# O incremento pode ser também um decremento (incremento negativo).\n",
        "for numero in range (10,0,-1):\n",
        "    print(numero)\n",
        "    #Imprimindo os números de 1 a 10 em ordem decrescente"
      ],
      "execution_count": null,
      "outputs": []
    },
    {
      "cell_type": "code",
      "metadata": {
        "id": "h0TsqJYXm3Ic"
      },
      "source": [
        "################################################################################\n",
        "\n",
        "#                               FUNÇÕES\n",
        "\n",
        "################################################################################"
      ],
      "execution_count": null,
      "outputs": []
    },
    {
      "cell_type": "code",
      "metadata": {
        "id": "vQEJXRltm8cU"
      },
      "source": [
        "################################################################################\n",
        "\n",
        "#                          AULA 06 - FUNÇÕES 1\n",
        "\n",
        "################################################################################"
      ],
      "execution_count": null,
      "outputs": []
    },
    {
      "cell_type": "code",
      "metadata": {
        "id": "9hBDCBo6nEFI"
      },
      "source": [
        "'''\n",
        "Funções são uma espécie de \"subprograma\". Elas são como pequenos pedacinhos de\n",
        "programa que podem ser chamadas pelo nome. Para criar uma função usamos o\n",
        "comando \"def\" e o nome da função. Elas são um bloco de comando assim\n",
        "como if/elif/else, while e for.\n",
        "'''\n",
        "\n",
        "def hello():\n",
        "    print(\"Olá, mundo!\")\n",
        "\n",
        "hello()"
      ],
      "execution_count": null,
      "outputs": []
    },
    {
      "cell_type": "code",
      "metadata": {
        "id": "-XaZB-XGnEMK"
      },
      "source": [
        "'''\n",
        "É possível passarmos informações para uma função. Chamamos essas informações de\n",
        "\"parâmetros\" ou \"argumentos. Na definição da função, daremos nome a esses\n",
        "parâmetros. Dentro da função, eles serão tratados como se fossem variáveis.\n",
        "Ao chamarmos a nossa funcao, passamos os parâmetros entre parênteses.\n",
        "O nome ou valor passado não precisam ser iguais aos declarados na função !\n",
        "O nome do parâmetro interno da função é um \"apelido\" que a função dará para o\n",
        "valor ou variável que passamos.\n",
        "'''\n",
        "\n",
        "def ola(nome):\n",
        "    print(\"Olá\", nome)\n",
        "    print(\"\\n\")\n",
        "\n",
        "ola(\"Cleber\")\n",
        "\n",
        "aluno = \"Presidente\"\n",
        "ola(aluno)"
      ],
      "execution_count": null,
      "outputs": []
    },
    {
      "cell_type": "code",
      "metadata": {
        "id": "-2KywZjrnEVb"
      },
      "source": [
        "'''\n",
        "A função pode receber vários parâmetros separados por vírgula.\n",
        "'''\n",
        "\n",
        "def dadosPessoais(nome, idade, cidade):\n",
        "    print(\"Seu nome é {}, você tem {} anos e mora em {}.\".format(nome, idade, cidade))\n",
        "\n",
        "dadosPessoais(\"Cleber\", 30, \"Maceió\")"
      ],
      "execution_count": null,
      "outputs": []
    },
    {
      "cell_type": "code",
      "metadata": {
        "id": "cTv_hFuYnEiC"
      },
      "source": [
        "'''\n",
        "Os parâmetros podem ser passados fora de ordem. Porém, para isso precisamos\n",
        "explicitar qual parâmetro estamos passando, para evitar ambiguidade ou erros de\n",
        "interpretação do Python.\n",
        "'''\n",
        "\n",
        "def dadosPessoais(nome, idade, cidade):\n",
        "    print(\"Seu nome é {}, você tem {} anos e mora em {}.\".format(nome, idade, cidade))\n",
        "\n",
        "dadosPessoais(idade=35, cidade=\"Florianópolis\", nome=\"Cleber\")"
      ],
      "execution_count": null,
      "outputs": []
    },
    {
      "cell_type": "code",
      "metadata": {
        "id": "4LbbhOr5uDfs"
      },
      "source": [
        "# PARÂMETROS COM VALORES PADRÃO"
      ],
      "execution_count": null,
      "outputs": []
    },
    {
      "cell_type": "code",
      "metadata": {
        "id": "hJsprKPVuEEM"
      },
      "source": [
        "'''\n",
        "É possível se determinar um valor padrão para um parâmetro, fazendo assim com que\n",
        "o mesmo não seja de declaração obrigatória ao se chamar a função.\n",
        "Contudo, os parâmetros com valores padrão precisam, obrigatóriamente, serem\n",
        "\"declaradas\" depois dos parâmetros que não possuem valores padrão.\n",
        "Ex:\n",
        "    def dadosPessoais(nome=\"Cleber\", idade, cidade):\n",
        "\n",
        "A função acima geraria um erro de compilação.\n",
        "'''\n",
        "\n",
        "def dadosPessoais(idade, cidade, nome=\"Cleber\"):\n",
        "    print(\"Seu nome é {}, você tem {} anos e mora em {}.\".format(nome, idade, cidade))\n",
        "\n",
        "# Note que não foi passado um valor para a variável \"nome\"\n",
        "dadosPessoais(idade=35, cidade=\"Florianópolis\")"
      ],
      "execution_count": null,
      "outputs": []
    },
    {
      "cell_type": "code",
      "metadata": {
        "id": "lI3WEPq5nEjm"
      },
      "source": [
        "'''\n",
        "Uma função pode ter uma \"resposta\". Por exemplo, nossa função pode ser uma conta,\n",
        "e o resultado da conta pode ser útil em nosso programa. Dizemos que essas funções\n",
        "\"retornam\" um valor. Utilizamos a palavra \"return\" para fazer uma função retornar\n",
        "sua resposta. Quando uma função retorna um valor, ela pode ser usada em expressões\n",
        "matemáticas ou lógicas, ter seu valor atribuído a uma variável, etc.\n",
        "'''\n",
        "\n",
        "def somatorio(lista):\n",
        "    soma = 0\n",
        "    for item in lista:\n",
        "        soma = soma + item\n",
        "    return soma\n",
        "\n",
        "numeros = [1, 2, 3, 4, 5]\n",
        "soma_dos_numeros = somatorio(numeros)\n",
        "print(\"A soma dos elementos da lista vale: \", soma_dos_numeros)\n",
        "\n",
        "if somatorio(numeros) > 50:\n",
        "    print(\"Que soma grande!\")\n",
        "else:\n",
        "    print(\"Que soma pequena!\")"
      ],
      "execution_count": null,
      "outputs": []
    },
    {
      "cell_type": "code",
      "metadata": {
        "id": "-3HLM8MapWB_"
      },
      "source": [
        "# FUNÇÕES RECURSIVAS"
      ],
      "execution_count": null,
      "outputs": []
    },
    {
      "cell_type": "code",
      "metadata": {
        "id": "8gJD1R2IpWMd"
      },
      "source": [
        "'''\n",
        "Algumas funções são chamadas funções recursivas. A recursividade (ou recursão) é\n",
        "uma propriedade na qual uma função faz referência a si mesma. Quando a função\n",
        "encontra uma nova referência, ela irá pausar sua execução atual e iniciar a\n",
        "execução da nova instância, para só então retomar sua execução.\n",
        "\n",
        "Assim como nos loops, é necessário ter alguma condição para que as chamadas\n",
        "recursivas sejam interrompidas, evitando que executem para sempre.\n",
        "'''\n",
        "\n",
        "def funcaoRecursiva(numero):\n",
        "    if (numero != 1):\n",
        "        funcaoRecursiva(numero - 1)\n",
        "    print(numero)\n",
        "\n",
        "print(\"Testando a função recursiva:\")\n",
        "funcaoRecursiva(10)"
      ],
      "execution_count": null,
      "outputs": []
    },
    {
      "cell_type": "code",
      "metadata": {
        "id": "PesSObfcpttI"
      },
      "source": [
        "'''\n",
        "Note que no exemplo acima passamos 10 para a função. Sua execução foi\n",
        "interrompida por uma nova chamada passando 9, depois 8, depois 7... Ao chegar\n",
        "em 1, ele foge da condicional e imprime 1, encerrando a execução. Então a\n",
        "instância que recebeu 2 tambem conclui sua execução, depois a\n",
        "chamada 3, a 4... A 10, que foi a 1a chamada, encerra por último.\n",
        "\n",
        "Dizemos que é um comportamento de pilha - exatamente como uma pilha de pratos\n",
        "sobre a mesa: O primeiro prato que foi colocado sobre a mesa será o último a\n",
        "sair, pois todos os pratos colocados sobre ele precisam ser retirados antes de\n",
        "você poder retirar o último.\n",
        "\n",
        "Problemas recursivos normalmente são problemas do tipo \"dividir para\n",
        "conquistar\": Temos um \"caso base\", ou seja, um ou mais casos onde há uma\n",
        "resposta direta; E temos um \"caso geral\", que é uma versão reduzida do\n",
        "problema original.\n",
        "'''\n"
      ],
      "execution_count": null,
      "outputs": []
    },
    {
      "cell_type": "code",
      "metadata": {
        "id": "pq6hzV5tsb6J"
      },
      "source": [
        "################################################################################\n",
        "# FUNÇÃO PRINT()\n",
        "################################################################################\n",
        "\n",
        "'''\n",
        "Um dos parâmetro que a função PRINT() possui é o parâmetro \"END\" o qual tem como\n",
        "valor padrão a string \"\\n\" e é adicionado ao final da String que a função\n",
        "exibirá.\n",
        "\n",
        "Entretanto, é possível passar este parâmetro e alterar esta string.\n",
        "''' \n",
        "\n",
        "print(\"Cleber\", end = \" \")\n",
        "print(\"Presidente\", end = \"\\n\\n\")\n",
        "\n",
        "print(\"Cleber\", end = \" --> \")\n",
        "print(\"Presidente\")\n"
      ],
      "execution_count": null,
      "outputs": []
    },
    {
      "cell_type": "code",
      "metadata": {
        "id": "-CtCxJ4o42yF"
      },
      "source": [
        "################################################################################\n",
        "\n",
        "#                          AULA 07 - FUNÇÕES 2\n",
        "\n",
        "################################################################################"
      ],
      "execution_count": null,
      "outputs": []
    },
    {
      "cell_type": "code",
      "metadata": {
        "id": "BgUVEB0445Gi"
      },
      "source": [
        "# AGRUPANDO PARÂMETROS"
      ],
      "execution_count": null,
      "outputs": []
    },
    {
      "cell_type": "code",
      "metadata": {
        "id": "iwaNj_Fw45VA"
      },
      "source": [
        "'''\n",
        "Podemos utilizar o operador * - que, neste caso, não será uma multiplicação.\n",
        "Ao colocarmos o * ao lado do nome de um parâmetro na definição da função, estamos\n",
        "dizendo que aquele argumento será uma coleção. Mais especificamente, uma tupla.\n",
        "Porém, o usuário não irá passar uma tupla. Ele irá passar quantos argumentos ele\n",
        "quiser, e o Python automaticamente criará uma tupla com eles:\n",
        "'''\n",
        "\n",
        "def piscina(*dimensoes):\n",
        "    vol = dimensoes[0]*dimensoes[1]*dimensoes[2]\n",
        "    return vol\n",
        "\n",
        "volume = piscina(5, 4, 5)\n",
        "\n",
        "print('O volume é: ', volume)"
      ],
      "execution_count": null,
      "outputs": []
    },
    {
      "cell_type": "code",
      "metadata": {
        "id": "A8uedBdS7n04"
      },
      "source": [
        "'''\n",
        "Caso a função receba outros parâmetros, o ideal é que em sua chama, estes\n",
        "parâmetros sejam explicitamente referenciados.\n",
        "'''\n",
        "\n",
        "\n",
        "def piscina(*dimensoes, unidade):\n",
        "    vol = dimensoes[0]*dimensoes[1]*dimensoes[2]\n",
        "\n",
        "    if str(unidade).upper() == str(\"metros cúbicos\").upper():\n",
        "      return str(vol) + \" m3\"\n",
        "\n",
        "    return str(vol) + \" litros\"\n",
        "\n",
        "volume = piscina(5, 4, 5, unidade = \"metros cúbicos\")\n",
        "\n",
        "print('O volume é: ', volume)"
      ],
      "execution_count": null,
      "outputs": []
    },
    {
      "cell_type": "code",
      "metadata": {
        "id": "te23s-7L45bo"
      },
      "source": [
        "'''\n",
        "Podemos utilizar o operador * na chamada da função também. Na definição, o\n",
        "operador * indica que devemos agrupar itens avulsos em uma coleção. Na chamada,\n",
        "ele indica que uma coleção deve ser expandida em itens avulsos:\n",
        "'''\n",
        "\n",
        "def piscina(prof, largura, comprimento):\n",
        "    vol = prof*largura*comprimento\n",
        "    return vol\n",
        "\n",
        "listaDimensoes = [5, 4, 5]\n",
        "\n",
        "volume = piscina(*listaDimensoes)\n",
        "\n",
        "print('O volume é: ', volume)"
      ],
      "execution_count": null,
      "outputs": []
    },
    {
      "cell_type": "code",
      "metadata": {
        "id": "2pNGz6I545jA"
      },
      "source": [
        "# PARÂMETROS OPCIONAIS"
      ],
      "execution_count": null,
      "outputs": []
    },
    {
      "cell_type": "code",
      "metadata": {
        "id": "3TIEJtWB45qg"
      },
      "source": [
        "'''\n",
        "Outra possibilidade são funções com parâmetros opcionais. Note que isso é\n",
        "diferente de termos quantidade variável de parâmetros. No caso da quantidade\n",
        "variável, normalmente são diversos parâmetros com a mesma utilidade (números a\n",
        "serem somados, valores a serem exibidos etc), enquanto os parâmetros opcionais\n",
        "são informações distintas que podem ou não ser passadas para a função.\n",
        "\n",
        "Para criar parâmetros opcionais, usaremos **, e os parâmetros passados serão\n",
        "agrupados em um dicionário: o nome do parâmetro será uma chave, e o valor\n",
        "será... O valor.\n",
        "'''\n",
        "\n",
        "def piscina(prof, **dimensoes):\n",
        "    vol = prof*dimensoes['largura']*dimensoes['comprimento']\n",
        "    return vol\n",
        "\n",
        "volume = piscina(5, largura=4, comprimento=5)\n",
        "\n",
        "print('O volume é: ', volume)"
      ],
      "execution_count": null,
      "outputs": []
    },
    {
      "cell_type": "code",
      "metadata": {
        "id": "mMcxOSlO45wv"
      },
      "source": [
        "'''\n",
        "Analogamente ao caso dos parâmetros múltiplos, é possível que o usuário da\n",
        "função já tenha os dados organizados em um dicionário. Neste caso, basta\n",
        "usar ** na chamada da função para expandir o dicionário em vários parâmetros\n",
        "opcionais:\n",
        "'''\n",
        "\n",
        "def piscina(prof, largura=4, comprimento=5):\n",
        "    vol = prof*largura*comprimento\n",
        "    return vol\n",
        "\n",
        "dicionarioDimensoes = {'largura': 10, 'comprimento': 20}\n",
        "\n",
        "volume = piscina(5, **dicionarioDimensoes)\n",
        "\n",
        "print('O volume é: ', volume)"
      ],
      "execution_count": null,
      "outputs": []
    },
    {
      "cell_type": "code",
      "metadata": {
        "id": "EM07nX94KZq4"
      },
      "source": [
        "################################################################################\n",
        "\n",
        "#                         AULAS - APLICAÇÕES\n",
        "\n",
        "################################################################################"
      ],
      "execution_count": null,
      "outputs": []
    },
    {
      "cell_type": "code",
      "metadata": {
        "id": "AqGRm8NkKZrL"
      },
      "source": [
        "################################################################################\n",
        "\n",
        "#                  AULA 01 - MANIPULAÇÃO DE ARQUIVOS\n",
        "\n",
        "################################################################################"
      ],
      "execution_count": null,
      "outputs": []
    },
    {
      "cell_type": "code",
      "metadata": {
        "id": "YhCF7xvO4525"
      },
      "source": [
        "# ARQUIVOS EM PYTHON\n",
        "\n",
        "'''\n",
        "O Python possui algumas funções prontas para manipular arquivos binários puros\n",
        "(onde, conhecendo a estrutura interna de qualquer formato, podemos salvar\n",
        "qualquer tipo de arquivo) e para manipular arquivos de texto (onde os binários\n",
        "são decodificados como strings).\n",
        "\n",
        "Focaremos no básico de manipulação de arquivo de texto, pois, na prática, quando\n",
        "formos trabalhar com arquivos mais complexos, é provável que usaremos bibliotecas\n",
        "específicas para lidar com eles, e elas já terão funções próprias para ler e\n",
        "salvar esses arquivos da maneira correta.\n",
        "'''"
      ],
      "execution_count": null,
      "outputs": []
    },
    {
      "cell_type": "code",
      "metadata": {
        "id": "5xaYqM-94592"
      },
      "source": [
        "# ABRINDO E FECHANDO ARQUIVOS\n",
        "# OPEN() / CLOSE()\n",
        "\n",
        "'''\n",
        "Podemos criar arquivos novos ou abrir arquivos já existentes utilizando a função\n",
        "open. Ela possui 2 argumentos: o caminho do arquivo e o modo de operação.\n",
        "\n",
        "Modo\t  Símbolo\t  Descrição\n",
        "\n",
        "read\t     r\t      lê um arquivo existente\n",
        "write\t     w\t      cria um novo arquivo\n",
        "append\t   a\t      abre um arquivo existente para adicionar informações ao seu final\n",
        "update\t   +\t      ao ser combinado com outros modos, permite alteração de arquivo\n",
        "                    já existente (ex: r+ abre um arquivo existente e permite modificá-lo)\n",
        "\n",
        "Após abrirmos (ou criarmos) um arquivo, podemos realizar diversas operações.\n",
        "Ao final de todas elas, devemos fechar o nosso arquivo usando a função close.\n",
        "Essa etapa é importante por 2 motivos:\n",
        "\n",
        "Se alteramos o arquivo mas não o fechamos, as alterações não serão salvas;\n",
        "Se esquecemos de fechar um arquivo, outros programas podem ter problemas ao\n",
        "acessá-lo.\n",
        "'''"
      ],
      "execution_count": null,
      "outputs": []
    },
    {
      "cell_type": "code",
      "metadata": {
        "id": "M_DtpFIN46Ew"
      },
      "source": [
        "# ROTEIRO BÁSICO"
      ],
      "execution_count": null,
      "outputs": []
    },
    {
      "cell_type": "code",
      "metadata": {
        "id": "l4Z2AKIUPQD9"
      },
      "source": [
        "'''\n",
        "Vamos seguir os seguintes passos para manipular nossos arquivos:\n",
        "  \n",
        "  1) Abrir ou criar um arquivo:\n",
        "\n",
        "          arquivocriado = open(\"teste.txt\", \"w\")\n",
        "  \n",
        "      A linha de comando acima abre (ou cria se não existe) um arquivo chamado\n",
        "      \"criado.txt\" para escrita (\"w\", de write) e guarda na variável \"arquivocriado\"\n",
        "      as informações para manipulá-lo.\n",
        "\n",
        "          arquivolido = open(\"teste.txt\", \"r\")\n",
        "  \n",
        "      A linha acima lê (\"r\", de read) um arquivo já existente chamado \"teste.txt\" e\n",
        "      guarda na variável \"arquivolido\" as informações para manipulá-lo.\n",
        "\n",
        "\n",
        "  2) Carregar os dados do arquivo (leitura)\n",
        "\n",
        "          dados = arquivolido.read()\n",
        "          print(dados)\n",
        "\n",
        "      A função read() retorna todo o conteúdo do arquivo como uma string.\n",
        "      Precisamos carregar o conteúdo do arquivo em algum formato que sabemos\n",
        "      trabalhar. A read() carrega o conteúdo de um arquivo de texto em uma string.\n",
        "\n",
        "\n",
        "  3) Manipular os dados do arquivo (escrita)\n",
        "\n",
        "          arquivocriado.write(\"linha 1\")\n",
        "          arquivocriado.write(\"linha 2\")\n",
        "          arquivocriado.write(\"linha 3\")\n",
        "\n",
        "      Em casos mais complexos, iremos manipular o conteudo LIDO no passo anterior\n",
        "      para posteriormente reescrevê-lo. Em outros mais simples, podemos escrever\n",
        "      diretamente no arquivo.\n",
        "\n",
        "\n",
        "  4) Fechar o arquivo\n",
        "\n",
        "          arquivocriado.close()\n",
        "          arquivolido.close()\n",
        "\n",
        "      Essa etapa é muito importante para garantir a integridade dos novos dados\n",
        "      no arquivo. As modificações são salvas somente ao fechar o arquivo.\n",
        "'''"
      ],
      "execution_count": null,
      "outputs": []
    },
    {
      "cell_type": "code",
      "metadata": {
        "id": "ECxB72_YSjL1"
      },
      "source": [
        "# 1) Abrir ou criar um arquivo:\n",
        "\n",
        "arquivocriado = open(\"teste.txt\", \"w\")\n",
        "arquivocriado.close()\n",
        "\n",
        "arquivolido = open(\"teste.txt\", \"r\")\n",
        "arquivolido.close()"
      ],
      "execution_count": null,
      "outputs": []
    },
    {
      "cell_type": "code",
      "metadata": {
        "id": "hh7kqnURZG-f"
      },
      "source": [
        "# 2) Carregar os dados do arquivo (leitura)\n",
        "\n",
        "arquivolido = open(\"teste.txt\", \"r\")\n",
        "dados = arquivolido.read()\n",
        "print(dados)\n",
        "arquivolido.close()\n"
      ],
      "execution_count": null,
      "outputs": []
    },
    {
      "cell_type": "code",
      "metadata": {
        "id": "u9p2_W5bZbtW"
      },
      "source": [
        "# 3) Manipular os dados do arquivo (escrita)\n",
        "\n",
        "arquivocriado = open(\"teste.txt\", \"w\")\n",
        "arquivocriado.write(\"linha 1\\n\")\n",
        "arquivocriado.write(\"linha 2\\n\")\n",
        "arquivocriado.write(\"linha 3\\n\")\n",
        "arquivocriado.close()\n",
        "\n",
        "arquivolido = open(\"teste.txt\", \"r\")\n",
        "dados = arquivolido.read()\n",
        "print(dados)\n",
        "arquivolido.close()\n"
      ],
      "execution_count": null,
      "outputs": []
    },
    {
      "cell_type": "code",
      "metadata": {
        "id": "hn_0XWcPaMga"
      },
      "source": [
        "# COMANDO WITH"
      ],
      "execution_count": null,
      "outputs": []
    },
    {
      "cell_type": "code",
      "metadata": {
        "id": "HZbG3__gaQ5F"
      },
      "source": [
        "'''\n",
        "Um jeito mais inteligente de se trabalhar com arquivos é utilizar a sintaxe do\n",
        "\"with\". Ele garante que após a finalização do bloco, o arquivo será fechado.\n",
        "\n",
        "    with open('teste.txt', 'r') as arquivolido:\n",
        "      dados = arquivolido.read()\n",
        "      print(dados)\n",
        "\n",
        "'''"
      ],
      "execution_count": null,
      "outputs": []
    },
    {
      "cell_type": "code",
      "metadata": {
        "id": "B21_ObaSad3T"
      },
      "source": [
        "# É possível ler o arquivo linha a linha, como no exemplo:"
      ],
      "execution_count": null,
      "outputs": []
    },
    {
      "cell_type": "code",
      "metadata": {
        "id": "_pa241XZag1A"
      },
      "source": [
        "with open('teste.txt', 'r') as arquivolido:\n",
        "   linha = arquivolido.readline()\n",
        "   while linha != '':\n",
        "       print(linha, end='\\n')\n",
        "       linha = arquivolido.readline()\n",
        "\n",
        "print(\"\\n\\n\\n\")\n",
        "\n",
        "# OU\n",
        "with open('teste.txt', 'r') as arquivolido:\n",
        "    for linha in arquivolido:\n",
        "        print(linha, end='\\n')\n"
      ],
      "execution_count": null,
      "outputs": []
    },
    {
      "cell_type": "code",
      "metadata": {
        "id": "H33Hy9ycayR3"
      },
      "source": [
        "# O mesmo pode ser feito para escrever no arquivo:\n",
        "'''\n",
        "No comando abaixo, as linhas do arquivo \"teste.txt\" são copiadas e salvas no\n",
        "arquivo \"copiateste.txt\".\n",
        "'''"
      ],
      "execution_count": null,
      "outputs": []
    },
    {
      "cell_type": "code",
      "metadata": {
        "id": "ISfOfB9eaykV"
      },
      "source": [
        "with open('teste.txt', 'r') as arquivolido:\n",
        "    with open('copiateste.txt', 'w') as arquivocriado:\n",
        "        for linha in arquivolido:\n",
        "            arquivocriado.write(linha)\n",
        "\n",
        "\n",
        "with open('copiateste.txt', 'r') as arquivolido:\n",
        "    for linha in arquivolido:\n",
        "        print(linha, end='\\n')\n"
      ],
      "execution_count": null,
      "outputs": []
    },
    {
      "cell_type": "code",
      "metadata": {
        "id": "d04ppbXXayyT"
      },
      "source": [
        "################################################################################\n",
        "# Utilizando o arquivo de exemplo da aula (Dom_Casmurro_Cap_1.txt)\n",
        "################################################################################"
      ],
      "execution_count": null,
      "outputs": []
    },
    {
      "cell_type": "code",
      "metadata": {
        "id": "6-XF268MYuY-"
      },
      "source": [
        "# Importando o arquivo para o Colab\n",
        "from google.colab import files\n",
        "\n",
        "uploaded = files.upload()"
      ],
      "execution_count": null,
      "outputs": []
    },
    {
      "cell_type": "code",
      "metadata": {
        "id": "6kPt3nerfxvn"
      },
      "source": [
        "# Abrindo um Arquivo\n",
        "\n",
        "# Dependendo da versão do Python ou do arquivo texto, será necessário alterar a\n",
        "# codificação do arquivo através do parâmetro \"encoding = \"utf-8\"\n",
        "arquivo = open(\"Dom_Casmurro_Cap_1.txt\", \"r\", encoding = \"utf-8\")\n",
        "texto = arquivo.read()\n",
        "print(texto)\n",
        "arquivo.close()"
      ],
      "execution_count": null,
      "outputs": []
    },
    {
      "cell_type": "code",
      "metadata": {
        "id": "GV6bxiWkhR3n"
      },
      "source": [
        "# Lendo um Arquivo com While\n",
        "\n",
        "with open('Dom_Casmurro_Cap_1.txt', 'r') as arquivolido:\n",
        "   linha = arquivolido.readline()\n",
        "   while linha != '':\n",
        "       # Para evitar que o print pule uma linha a cada linha que leia, utilizamos o parâmetro end=''\n",
        "       print(linha, end='') \n",
        "       linha = arquivolido.readline()"
      ],
      "execution_count": null,
      "outputs": []
    },
    {
      "cell_type": "code",
      "metadata": {
        "id": "QnpX3AbdhR3r"
      },
      "source": [
        "# Lendo um Arquivo com For\n",
        "with open('Dom_Casmurro_Cap_1.txt', 'r') as arquivolido:\n",
        "    for linha in arquivolido:\n",
        "        print(linha, end='')"
      ],
      "execution_count": null,
      "outputs": []
    },
    {
      "cell_type": "code",
      "metadata": {
        "id": "g1j_HFhNv3q1"
      },
      "source": [
        "################################################################################\n",
        "\n",
        "#                      AULA 02 - ARQUIVOS CSV\n",
        "\n",
        "################################################################################"
      ],
      "execution_count": null,
      "outputs": []
    },
    {
      "cell_type": "code",
      "metadata": {
        "id": "DrhBTu3Ev_ew"
      },
      "source": [
        "'''\n",
        "O formato CSV (Comma Separated Values, ou Valores Separados por Vírgula) é um\n",
        "arquivo de texto que representa dados em forma de tabela de forma simples.\n",
        "\n",
        "Cada linha do arquivo de texto é uma linha da tabela, e as colunas são separadas\n",
        "por vírgulas.\n",
        "\n",
        "1, 2, 3, 4\n",
        "\n",
        "5, 6, 7, 8\n",
        "\n",
        "9, 10, 11, 12\n",
        "\n",
        "Poderíamos manipular estes arquivos diretamente usando as funções de arquivo\n",
        "vistas anteriormente. Um fator complicador é que o formato CSV não é bem\n",
        "padronizado: apesar do nome, é normal que outros separadores sejam usados ao\n",
        "invés de vírgula, como \";\", para permitir que a vírgula seja usada em um campo.\n",
        "Idem para a separação entre linhas. Existe um módulo em Python para manipular\n",
        "arquivos CSV que nos ajuda a tratar essas diferenças. Todo programa que for\n",
        "utilizar o módulo CSV deverá importá-lo em seu início através do\n",
        "comando: import csv\n",
        "'''"
      ],
      "execution_count": null,
      "outputs": []
    },
    {
      "cell_type": "code",
      "metadata": {
        "id": "tA4o4JRWwq24"
      },
      "source": [
        "import csv\n",
        "\n",
        "with open('tabelaExemplo.csv', 'w') as arquivo:\n",
        "    escritor = csv.writer(arquivo, delimiter = ';', lineterminator = '\\n') #criando um escritor\n",
        "    lista = [[1, 2, 3], [4, 5, 6], [7, 8, 9]]\n",
        "    escritor.writerows(lista) # writerows escreve cada \"sublista\" da lista como uma linha"
      ],
      "execution_count": null,
      "outputs": []
    },
    {
      "cell_type": "code",
      "metadata": {
        "id": "G-FldjTbw2NI"
      },
      "source": [
        "with open('tabelaExemplo.csv', \"r\") as arquivo:\n",
        "    leitor = csv.reader(arquivo, delimiter = ';', lineterminator = '\\n') #criando um leitor\n",
        "    print(\"O conteúdo do arquivo é:\")\n",
        "    print(leitor)\n",
        "    for linha in leitor:\n",
        "        print(linha)"
      ],
      "execution_count": null,
      "outputs": []
    },
    {
      "cell_type": "code",
      "metadata": {
        "id": "fjZT4cgfxDNQ"
      },
      "source": [
        "# DictReader e DictWriter\n",
        "\n",
        "'''\n",
        "Podemos também trabalhar com dicionários, nos quais a primeira linha é lida como\n",
        "a chave e as demais são os respectivos valores:\n",
        "'''"
      ],
      "execution_count": null,
      "outputs": []
    },
    {
      "cell_type": "code",
      "metadata": {
        "id": "UEWftoxixOCn"
      },
      "source": [
        "import csv\n",
        "\n",
        "with open('names.csv', 'w', newline='') as csvfile:\n",
        "    chaves = ['first_name', 'last_name'] # definimos o cabeçalho\n",
        "    print(chaves)\n",
        "    writer = csv.DictWriter(csvfile, fieldnames=chaves, delimiter=';') # especificamos o cabeçalho\n",
        "\n",
        "    writer.writeheader() # escrevemos o cabeçalho\n",
        "    writer.writerow({'first_name': 'Senhor', 'last_name': 'Batata'}) # escrevemos linhas com as chaves e valores\n",
        "    writer.writerow({'first_name': 'Will', 'last_name': 'Smith'})\n",
        "    writer.writerow({'first_name': 'Elon', 'last_name': 'Musk'})\n",
        "\n",
        "    print(writer.fieldnames)"
      ],
      "execution_count": null,
      "outputs": []
    },
    {
      "cell_type": "code",
      "metadata": {
        "id": "PY9FDVOVxIE3"
      },
      "source": [
        "import csv\n",
        "\n",
        "with open('names.csv', 'r') as namesList:\n",
        "    leitor = csv.DictReader(namesList, delimiter=';') #a primeira linha é lida como um cabeçalho\n",
        "    for linha in leitor:\n",
        "        print(linha[\"first_name\"]) #podemos chamar um valor específico de cada linha pela chave no cabeçallho\n"
      ],
      "execution_count": null,
      "outputs": []
    },
    {
      "cell_type": "code",
      "metadata": {
        "id": "GV2sj47q3ftZ"
      },
      "source": [
        "################################################################################\n",
        "# Utilizando o arquivo de exemplo da aula (Brasil_Covid.csv)\n",
        "################################################################################"
      ],
      "execution_count": null,
      "outputs": []
    },
    {
      "cell_type": "code",
      "metadata": {
        "id": "QpN5pkHS3k-0"
      },
      "source": [
        "# Importando o arquivo para o Colab\n",
        "from google.colab import files\n",
        "\n",
        "uploaded = files.upload()"
      ],
      "execution_count": null,
      "outputs": []
    },
    {
      "cell_type": "code",
      "metadata": {
        "id": "1dLlFyCM31_N"
      },
      "source": [
        "# Abrindo um Arquivo\n",
        "\n",
        "import csv\n",
        "\n",
        "with open('Brasil_Covid.csv', 'r', encoding=\"utf-8\") as brasilCovid:\n",
        "    leitor = csv.reader(brasilCovid)\n",
        "    for linha in leitor:\n",
        "        print(linha)\n"
      ],
      "execution_count": null,
      "outputs": []
    },
    {
      "cell_type": "code",
      "metadata": {
        "id": "BmJ8uGBg5Z9u"
      },
      "source": [
        "import csv\n",
        "\n",
        "with open('Brasil_Covid.csv', 'r', encoding=\"utf-8\") as brasilCovid:\n",
        "    leitor = csv.reader(brasilCovid)\n",
        "    # O comando \"NEXT\" é utilizado para ler a próxima linha do arquivo.\n",
        "    header = next(leitor)\n",
        "    print(\"HEADER --> \" + str(header))\n",
        "    for linha in leitor:\n",
        "      if int(linha[2]) > 2:\n",
        "        print(linha)"
      ],
      "execution_count": null,
      "outputs": []
    },
    {
      "cell_type": "code",
      "metadata": {
        "id": "fbXi5xj33k-1"
      },
      "source": [
        "import csv\n",
        "\n",
        "with open('Brasil_Covid.csv', 'r', encoding=\"utf-8\") as brasilCovid:\n",
        "    leitor = csv.DictReader(brasilCovid)\n",
        "    for linha in leitor:\n",
        "      if int(linha[\"novos_casos\"]) > 2:\n",
        "        print(linha)"
      ],
      "execution_count": null,
      "outputs": []
    },
    {
      "cell_type": "code",
      "metadata": {
        "id": "dIPRUwVAzpuI"
      },
      "source": [
        "# Lendo um Arquivo CSV sem utilizar a biblioteca\n",
        "\n",
        "with open('Brasil_Covid.csv', 'r', encoding=\"utf-8\") as brasilCovid:\n",
        "    conteudoArquivo = brasilCovid.read()\n",
        "    conteudoArquivo = conteudoArquivo.split('\\n')\n",
        "    for linha in conteudoArquivo:\n",
        "        print(linha)"
      ],
      "execution_count": null,
      "outputs": []
    },
    {
      "cell_type": "code",
      "metadata": {
        "id": "jrjhMEFL8C8Z"
      },
      "source": [
        "# CRIANDO ARQUIVO CSV"
      ],
      "execution_count": null,
      "outputs": []
    },
    {
      "cell_type": "code",
      "metadata": {
        "id": "2pf_NQhl8KAN"
      },
      "source": [
        "import csv\n",
        "\n",
        "with open('teste.csv', 'w', encoding=\"utf-8\", newline='') as arquivo:\n",
        "    escritor = csv.writer(arquivo)\n",
        "    escritor.writerow(['nome', 'sobrenome', 'email', 'genero'])\n",
        "    escritor.writerow(['Cleber', 'Presidente', 'cleber@presidente.com', 'Cabra Macho'])\n",
        "\n",
        "with open('teste.csv', 'r') as arquivo:\n",
        "    conteudoArquivo = csv.reader(arquivo)\n",
        "    for linha in conteudoArquivo:\n",
        "        print(linha)"
      ],
      "execution_count": null,
      "outputs": []
    },
    {
      "cell_type": "code",
      "metadata": {
        "id": "NTEir32F9mhG"
      },
      "source": [
        "# EXERCÍCIO"
      ],
      "execution_count": null,
      "outputs": []
    },
    {
      "cell_type": "code",
      "metadata": {
        "id": "VMNHQ4Yg9quf"
      },
      "source": [
        "# ENTRADA DE DADOS\n",
        "\n",
        "from IPython.display import clear_output \n",
        "\n",
        "dados = []\n",
        "header = ['nome', 'sobrenome']\n",
        "\n",
        "opcao = input(\"O que deseja fazer ?\\n\" + \"1 - Cadastrar\\n\" + \"2 - Sair\\n\")\n",
        "\n",
        "while int(opcao) != 2:\n",
        "  clear_output()\n",
        "  nome = input(\"Digite um Nome : \")\n",
        "  sobrenome = input(\"Digite o Sobrenome : \")\n",
        "  dados.append([nome, sobrenome])\n",
        "\n",
        "  opcao = input(\"\\n\\n\\n\" + \"O que deseja fazer ?\\n\" + \"1 - Cadastrar\\n\" + \"2 - Sair\\n\")\n",
        "\n",
        "clear_output()\n",
        "print(\"Conteúdo do Arquivo :\\n\\n\" + str(dados))"
      ],
      "execution_count": null,
      "outputs": []
    },
    {
      "cell_type": "code",
      "metadata": {
        "id": "7HeMCaM3_h5p"
      },
      "source": [
        "# GRAVA OS DADOS EM ARQUIVO, FAZ A LEITURA DO ARQUIVO E EXIBE O CONTEÚDO DO MESMO\n",
        "if len(dados) > 0:\n",
        "  with open('listaDeNomes.csv', 'w', newline='') as arquivo_csv:\n",
        "    writer = csv.writer(arquivo_csv)\n",
        "    writer.writerow(header)\n",
        "    writer.writerows(dados)\n",
        "\n",
        "  with open('listaDeNomes.csv', 'r') as arquivo_csv:\n",
        "    conteudoArquivo = csv.reader(arquivo_csv)\n",
        "    for linha in conteudoArquivo:\n",
        "      print(linha)\n",
        "\n",
        "else:\n",
        "  print(\"Não há dados para serem inseridos no arquivo !\")"
      ],
      "execution_count": null,
      "outputs": []
    },
    {
      "cell_type": "code",
      "metadata": {
        "id": "Qn3wIgJtc47p"
      },
      "source": [
        "################################################################################\n",
        "\n",
        "#             AULA 03 - APIs (Application Programming Interface)\n",
        "\n",
        "################################################################################"
      ],
      "execution_count": null,
      "outputs": []
    },
    {
      "cell_type": "code",
      "metadata": {
        "id": "VjT9Qywjc_DY"
      },
      "source": [
        "'''\n",
        "Hoje em dia é muito comum que diferentes aplicações consumam dados pela internet\n",
        " muitas vezes dados providenciados por terceiros. Por exemplo, um aplicativo de\n",
        " entrega de alimentos pode usar dados de geolocalização do Google para localizar\n",
        " restaurantes próximos ao usuário e exibir a rota percorrida pelo entregador.\n",
        "\n",
        "Como as aplicações podem rodar em diferentes plataformas (Windows, Android,\n",
        "MacOS, iOS, um navegador de internet...), é importante estabelecer uma linguagem\n",
        "comum para que todos consigam consumir esses dados.\n",
        "\n",
        "Essa \"linguagem comum\" é o que chamamos de API: Application Programming Interface.\n",
        "A organização que disponibiliza os dados estabelece algumas \"regrinhas\" para\n",
        "fazermos requisições, e em contrapartida ela garante que os recursos fornecidos\n",
        "também seguirão certos padrões, facilitando a vida dos programadores.\n",
        "\n",
        "Portanto, quando decidimos utilizar uma API, a primeira coisa que precisamos\n",
        "fazer é estudar sua documentação. Vejamos alguns dos pontos mais relevantes para\n",
        "procurar.\n",
        "\n",
        "Todos os exemplos de requisição que mostraremos aqui podem ser colados em seu\n",
        "navegador ou estudados usando um requests.get no Python e imprimindo seu campo\n",
        "text.\n",
        "'''"
      ],
      "execution_count": null,
      "outputs": []
    },
    {
      "cell_type": "code",
      "metadata": {
        "id": "zskEMXRjc_QS"
      },
      "source": [
        "# URI base"
      ],
      "execution_count": null,
      "outputs": []
    },
    {
      "cell_type": "code",
      "metadata": {
        "id": "oJ2MNYFbc_WE"
      },
      "source": [
        "'''\n",
        "Várias APIs fornecem um \"endereço base\". Todas as suas requisições incluirão esse\n",
        "endereço, e ao final dele nós colocamos detalhes específicos para cada um dos\n",
        "recursos disponíveis.\n",
        "\n",
        "Por exemplo, na AlphaVantage (https://www.alphavantage.co/), uma API de dados de\n",
        "bolsas de valores e criptomoedas, a URI base é:\n",
        "\n",
        "https://www.alphavantage.co/query?\n",
        "\n",
        "Após a interrogação nós colocaremos os campos para nossa consulta. Por exemplo,\n",
        "para fazer uma consulta sem autenticação para valores da IBM, de 5 em 5 minutos,\n",
        "o endereço completo fica:\n",
        "\n",
        "https://www.alphavantage.co/query?function=TIME_SERIES_INTRADAY&symbol=IBM&interval=5min&apikey=demo\n",
        "\n",
        "Note o formato com &NomeDoCampo=ValorDoCampo. Ele é bastante comum. Outro formato\n",
        "bastante comum é o de \"subdiretórios\".\n",
        "\n",
        "Um exemplo é a PokéAPI. A URI base é:\n",
        "\n",
        "https://pokeapi.co/api/v2/\n",
        "\n",
        "Para procurar por pokémons, adicionamos pokemon/. Em seguida, podemos colocar\n",
        "números (índices) ou nomes de Pokémon, como:\n",
        "\n",
        "https://pokeapi.co/api/v2/pokemon/ditto/\n",
        "\n",
        "https://pokeapi.co/api/v2/pokemon/25\n",
        "\n",
        "Se ao invés de pokémons estivéssemos interessados em tipos de pokémon, usaríamos\n",
        "types/ e o nome ou índice do tipo desejado:\n",
        "\n",
        "https://pokeapi.co/api/v2/type/ghost\n",
        "'''"
      ],
      "execution_count": null,
      "outputs": []
    },
    {
      "cell_type": "code",
      "metadata": {
        "id": "pXTPeIesc_aJ"
      },
      "source": [
        "# FORMATO"
      ],
      "execution_count": null,
      "outputs": []
    },
    {
      "cell_type": "code",
      "metadata": {
        "id": "F5Nl_y-Melg5"
      },
      "source": [
        "# TIPO DE DADO"
      ],
      "execution_count": null,
      "outputs": []
    },
    {
      "cell_type": "code",
      "metadata": {
        "id": "SKuVR7EBenhl"
      },
      "source": [
        "'''\n",
        "Algumas APIs possuem formatos fixos de dados. Outros permitem que você escolha.\n",
        "É comum, por exemplo, que uma API permita que você escolha entre JSON, XML, CSV\n",
        "e/ou outros formatos.\n",
        "\n",
        "Caso você tenha entrado no AlphaVantage e se registrado para obter uma chave\n",
        "(falaremos mais adiante), você pode especificar, por exemplo, que gostaria de\n",
        "resultados no formato CSV:\n",
        "\n",
        "https://www.alphavantage.co/query?function=TIME_SERIES_INTRADAY&symbol=IBM&interval=5min&dataformat=csv&apikey=demo\n",
        "\n",
        "Substitua \"demo\" por sua chave no exemplo acima e ele funcionará.\n",
        "'''"
      ],
      "execution_count": null,
      "outputs": []
    },
    {
      "cell_type": "code",
      "metadata": {
        "id": "FDT2CVrxe3rE"
      },
      "source": [
        "# SCHEMA"
      ],
      "execution_count": null,
      "outputs": []
    },
    {
      "cell_type": "code",
      "metadata": {
        "id": "RWvP9rlTe3yM"
      },
      "source": [
        "'''\n",
        "É bastante comum que as APIs disponibilizem um \"modelo\" genérico de como será\n",
        "formatado o seu JSON, XML etc para que os desenvolvedores saibam quais campos\n",
        "esperar e quais tipos de dados serão possíveis para cada campo. Por exemplo:\n",
        "\n",
        "{\n",
        "    'nome':string,\n",
        "    'pontuacao':integer\n",
        "}\n",
        "'''"
      ],
      "execution_count": null,
      "outputs": []
    },
    {
      "cell_type": "code",
      "metadata": {
        "id": "GNpRbXJ3e3-f"
      },
      "source": [
        "# AUTENTICAÇÃO"
      ],
      "execution_count": null,
      "outputs": []
    },
    {
      "cell_type": "code",
      "metadata": {
        "id": "P-5rzXeNe4GI"
      },
      "source": [
        "'''\n",
        "Outro aspecto importante é a autenticação. Enquanto algumas APIs são grátis,\n",
        "outras são pagas. Ainda temos algumas híbridas: você pode gratuitamente acessar\n",
        "certos recursos, ou consumir um certo volume de dados, e acima disso você deverá\n",
        "pagar. Os dois modelos mais comuns de autenticação:\n",
        "\n",
        "Chave: ao fazer seu registro, você recebe uma chave que será inclusa na requisição,\n",
        "como é o caso do AlphaVantage.\n",
        "OAuth: um esquema um pouco mais complexo onde são combinados códigos de autorização,\n",
        "identificação do cliente e segredo do cliente em um POST, e o servidor cria uma\n",
        "sessão por um tempo limitado e fornece o ID da mesma. APIs de gigantes da internet\n",
        "(como Google e Facebook) costumam usar esse modelo.\n",
        "'''"
      ],
      "execution_count": null,
      "outputs": []
    },
    {
      "cell_type": "code",
      "metadata": {
        "id": "uGVoDYXYe4Nr"
      },
      "source": [
        "# RATE LIMITING"
      ],
      "execution_count": null,
      "outputs": []
    },
    {
      "cell_type": "code",
      "metadata": {
        "id": "YvE-51WTe4Vc"
      },
      "source": [
        "'''\n",
        "Um dado parcialmente relacionado ao item anterior. As APIs costumam limitar o\n",
        "número de requisições que você pode fazer em um instante de tempo (3 requisições\n",
        "por minuto, 10000 requisições por dia etc). Temos dois motivos:\n",
        "\n",
        "Segurança: evitar uma sobrecarga no servidor deles que possa indisponibilizar a\n",
        "API para todos os usuários.\n",
        "Venda de planos: várias APIs pagas possuem diferentes planos de pagamento.\n",
        "Os planos mais caros costumam permitir mais requisições do que os mais baratos\n",
        "ou gratuitos.\n",
        "'''"
      ],
      "execution_count": null,
      "outputs": []
    },
    {
      "cell_type": "code",
      "metadata": {
        "id": "qepQ32jAe4cI"
      },
      "source": [
        "# WRAPPERS"
      ],
      "execution_count": null,
      "outputs": []
    },
    {
      "cell_type": "code",
      "metadata": {
        "id": "2mWMDdtJe4j_"
      },
      "source": [
        "'''\n",
        "Algumas APIs possuem tantas buscas diferentes e os resultados podem ser tão\n",
        "complexos que mesmo vindo em formatos simples como JSON pode ser um pouco\n",
        "trabalhoso montar as requisições e isolar os dados que queremos. Por conta disso,\n",
        "frequentemente são fornecidas wrapper libraries: bibliotecas escritas em linguagens\n",
        "de programação específicas que já trazem classes e funções prontas para fazer\n",
        "requisições automaticamente e já quebrar o resultado em objetos fáceis de serem\n",
        "utilizados. Elas também costumam oferecer alguns benefícios adicionais, como\n",
        "caching: de tempos em tempos a base de dados é totalmente ou parcialmente baixada\n",
        "por completo e salva localmente, o que ajuda a economizar requisições e,\n",
        "consequentemente, uso de dados (bastante útil considerando em usuários de\n",
        "dispositivos móveis, por exemplo).\n",
        "'''"
      ],
      "execution_count": null,
      "outputs": []
    },
    {
      "cell_type": "code",
      "metadata": {
        "id": "mfZIZpfffQPE"
      },
      "source": [
        "# SANDBOX"
      ],
      "execution_count": null,
      "outputs": []
    },
    {
      "cell_type": "code",
      "metadata": {
        "id": "GEUEiL_TfQPP"
      },
      "source": [
        "'''\n",
        "Várias APIs possuem no mesmo site de sua documentação uma área conhecida como\n",
        "sandbox, onde você pode simular requisições no próprio navegador e ver não só a\n",
        "resposta formatada, como informações sobre como montar aquela requisição em\n",
        "software.\n",
        "\n",
        "Aqui podemos observar a área de sandbox para fazer consultas de gastos por meio\n",
        "de cartão de pagamento do Portal da Transparência do governo federal. Note que\n",
        "ele mostra o schema e apresenta campos para preenchermos as buscas.\n",
        "\n",
        "E aqui, o resultado: ele gera o endereço completo para a busca baseado nos\n",
        "valores preenchidos nos campos e mostra a resposta formatada.\n",
        "'''"
      ],
      "execution_count": null,
      "outputs": []
    },
    {
      "cell_type": "code",
      "metadata": {
        "id": "GwBhkEh_e4q3"
      },
      "source": [
        "################################################################################\n",
        "# CONSUMINDO APIs EM PYTHON\n",
        "################################################################################"
      ],
      "execution_count": null,
      "outputs": []
    },
    {
      "cell_type": "code",
      "metadata": {
        "id": "JbiHtJ6RgmeM"
      },
      "source": [
        "'''\n",
        "As APIs são meios de nos conectarmos a recursos na internet. Portanto, já\n",
        "possuímos as ferramentas na mão desde os capítulos anteriores. Você irá construir\n",
        "a lógica para decidir o que você irá buscar/consultar, montará uma string seguindo\n",
        "o formato indicado pela documentação da API (como todos os exemplos deste capítulo).\n",
        "Em seguida você tratará a resposta de acordo:\n",
        "\n",
        "Se for JSON, utilize o método json da própria requests.\n",
        "Se for CSV, utilize o módulo CSV estudado anteriormente.\n",
        "Se for XML, podemos utilizar o módulo BeautifulSoup, que não será estudado aqui.\n",
        "Para outros formatos, provavelmente a solução mais fácil será baixar um módulo\n",
        "preparado para lidar com eles.\n",
        "Descobrindo APIs: tem boas ideias e gostaria de saber se existe uma boa API para\n",
        "ajudar? Confira alguns bons repositórios de API organizados por categoria:\n",
        "\n",
        "https://github.com/n0shake/public-apis\n",
        "\n",
        "https://github.com/public-apis/public-apis\n",
        "\n",
        "https://any-api.com/\n",
        "\n",
        "Sites de governos costumam ter uma grande riqueza de dados também. Segue abaixo\n",
        "algumas sugestões (oficiais ou mantidas por voluntários) com dados do Brasil como\n",
        "um todo. Experimente buscar por bases de dados de sua cidade ou estado!\n",
        "\n",
        "http://www.transparencia.gov.br/swagger-ui.html\n",
        "\n",
        "http://www.dados.gov.br/\n",
        "\n",
        "https://brasil.io/home/"
      ],
      "execution_count": null,
      "outputs": []
    },
    {
      "cell_type": "code",
      "metadata": {
        "id": "Yoc-SwhSgmmb"
      },
      "source": [
        "# Exercícios da Aula"
      ],
      "execution_count": null,
      "outputs": []
    },
    {
      "cell_type": "code",
      "metadata": {
        "id": "ZoKqWAoQgmvf"
      },
      "source": [
        "# Obtenção dos dados das cotações\n",
        "# Documentação da Exchange Rate API (https://www.exchangerate-api.com)\n",
        "\n",
        "import requests\n",
        "\n",
        "dados = {}\n",
        "\n",
        "# url = 'https://api.exchangerate-api.com/v6/latest'\n",
        "url = 'https://open.er-api.com/v6/latest'\n",
        "\n",
        "requisicao = requests.get(url)\n",
        "\n",
        "if int(requisicao.status_code) == 200:\n",
        "  dados = requisicao.json()\n",
        "  for item in dados:\n",
        "    print(str(item) + \" : \" + str(dados[item]))\n",
        "\n",
        "else:\n",
        "  print(requisicao.status_code)"
      ],
      "execution_count": null,
      "outputs": []
    },
    {
      "cell_type": "code",
      "metadata": {
        "id": "HGnsSDgMgnFj"
      },
      "source": [
        "# Conversão da moeda\n",
        "\n",
        "cotacao_dolar_americano = dados['rates']['BRL']\n",
        "\n",
        "valor_reais = float(input(\"Informe o valor em R$ a ser convertido para Dólares Americanos.\\n\"))\n",
        "\n",
        "print(f'\\nR$ {valor_reais:.2f} equivalem a US$ {(valor_reais / cotacao_dolar_americano):.2f}')"
      ],
      "execution_count": null,
      "outputs": []
    },
    {
      "cell_type": "code",
      "metadata": {
        "id": "B0gDBD_SgnPU"
      },
      "source": [
        ""
      ],
      "execution_count": null,
      "outputs": []
    },
    {
      "cell_type": "code",
      "metadata": {
        "id": "tr-7is7J4sAA"
      },
      "source": [
        "################################################################################\n",
        "\n",
        "#                            AULAS - PROJETO\n",
        "\n",
        "################################################################################"
      ],
      "execution_count": null,
      "outputs": []
    },
    {
      "cell_type": "code",
      "metadata": {
        "id": "y99Ty53u4sAU"
      },
      "source": [
        "################################################################################\n",
        "\n",
        "#                      AULA 04 - PROJETO (PARTE 1)\n",
        "\n",
        "################################################################################"
      ],
      "execution_count": null,
      "outputs": []
    },
    {
      "cell_type": "code",
      "metadata": {
        "id": "zsAH6YHC448D"
      },
      "source": [
        "# DATETIME\n",
        "'''\n",
        "Para treinar o uso da biblioteca datetime, execute as funções do código a seguir,\n",
        "tentando prever os seus resultados:\n",
        "'''"
      ],
      "execution_count": null,
      "outputs": []
    },
    {
      "cell_type": "code",
      "metadata": {
        "id": "CNqB4CwY4-LM"
      },
      "source": [
        "import datetime\n",
        "\n",
        "d = datetime.date(2001, 9, 11)\n",
        "tday = datetime.date.today()\n",
        "print(tday, d)"
      ],
      "execution_count": null,
      "outputs": []
    },
    {
      "cell_type": "code",
      "metadata": {
        "id": "lWrhKdHo5NxB"
      },
      "source": [
        "# datetime.timedelta(days=0, seconds=0, microseconds=0, milliseconds=0, minutes=0, hours=0, weeks=0)\n",
        "\n",
        "tdelta = datetime.timedelta(hours=12)\n",
        "print(tday)\n",
        "print(tdelta)\n",
        "print(str(tday + 2*tdelta))"
      ],
      "execution_count": null,
      "outputs": []
    },
    {
      "cell_type": "code",
      "metadata": {
        "id": "PGVReZ4t5PxD"
      },
      "source": [
        "bday = datetime.date(2016, 9, 24)\n",
        "till_bday = bday - tday\n",
        "print(till_bday.days)"
      ],
      "execution_count": null,
      "outputs": []
    },
    {
      "cell_type": "code",
      "metadata": {
        "id": "lLOZAFvp5R5j"
      },
      "source": [
        "# strftime - Datetime para String\n",
        "\n",
        "dt_agora = datetime.datetime.now()\n",
        "print(dt_agora.strftime('%B %d, %Y'))"
      ],
      "execution_count": null,
      "outputs": []
    },
    {
      "cell_type": "code",
      "metadata": {
        "id": "j2ycXVqM5UCx"
      },
      "source": [
        "# strptime - String para Datetime\n",
        "\n",
        "dt_str = 'July 24, 2016'\n",
        "dt = datetime.datetime.strptime(dt_str, '%B %d, %Y')\n",
        "print(dt)"
      ],
      "execution_count": null,
      "outputs": []
    },
    {
      "cell_type": "code",
      "metadata": {
        "id": "k-mHSGob68TH"
      },
      "source": [
        ""
      ],
      "execution_count": null,
      "outputs": []
    },
    {
      "cell_type": "code",
      "metadata": {
        "id": "7L9361aX6_Cx"
      },
      "source": [
        "################################################################################\n",
        "# PROJETO DA VÍDEO AULA\n",
        "################################################################################"
      ],
      "execution_count": null,
      "outputs": []
    },
    {
      "cell_type": "code",
      "metadata": {
        "id": "ZwWIM3J47DwF"
      },
      "source": [
        "import sys\n",
        "import requests as chamadaAPI\n",
        "\n",
        "url = 'https://api.covid19api.com/dayone/country/brazil'\n",
        "\n",
        "resp = chamadaAPI.get(url)\n",
        "\n",
        "if int(resp.status_code) != 200:\n",
        "  print(\"Não foi possível acessar a API.\\n\")\n",
        "  print(\"STATUS CODE = \" + str(resp.status_code))\n",
        "  # Comando para interromper o script\n",
        "  # exit(keep_kernel= True)\n",
        "  sys.exit(0)\n",
        "  \n",
        "print(\"API acessada com Sucesso !\\n\")"
      ],
      "execution_count": null,
      "outputs": []
    },
    {
      "cell_type": "code",
      "metadata": {
        "id": "WGRyxWGmC6-f"
      },
      "source": [
        "# Dados Devolvidos pela chamada da API\n",
        "dataAPI = resp.json()"
      ],
      "execution_count": 2,
      "outputs": []
    },
    {
      "cell_type": "code",
      "metadata": {
        "id": "hlfOfl65Eknb"
      },
      "source": [
        "# Filtrando os dados recebidos\n",
        "dadosFiltrados = []\n",
        "for item in dataAPI:\n",
        "  dadosFiltrados.append(\n",
        "      [\n",
        "        item['Confirmed'],\n",
        "        item['Deaths'],\n",
        "        item['Recovered'],\n",
        "        item['Active'],\n",
        "        item['Date']\n",
        "      ]\n",
        "  )"
      ],
      "execution_count": 3,
      "outputs": []
    },
    {
      "cell_type": "code",
      "metadata": {
        "id": "87zoKI16Hl87"
      },
      "source": [
        "# Inserindo um Cabeçalho\n",
        "dadosFiltrados.insert(0, ['Confirmados', 'Mortes', 'Recuperados', 'Doentes', 'Data'])"
      ],
      "execution_count": 4,
      "outputs": []
    },
    {
      "cell_type": "code",
      "metadata": {
        "id": "heKiqMBpHn4p"
      },
      "source": [
        "# Cria constantes para acessar as colunas dos dados\n",
        "cabecalho = {\n",
        "    'CONFIRMADOS' : 0,\n",
        "    'MORTES' : 1,\n",
        "    'RECUPERADOS' : 2,\n",
        "    'DOENTES' : 3,\n",
        "    'DATA' : 4\n",
        "\n",
        "}"
      ],
      "execution_count": 5,
      "outputs": []
    },
    {
      "cell_type": "code",
      "metadata": {
        "id": "JoII8XxYHsWk"
      },
      "source": [
        "# Formata a Data\n",
        "for indice in range(1, len(dadosFiltrados)):\n",
        "  dadosFiltrados[indice][cabecalho['DATA']] = dadosFiltrados[indice][cabecalho['DATA']][:10]"
      ],
      "execution_count": 6,
      "outputs": []
    },
    {
      "cell_type": "code",
      "metadata": {
        "id": "LCfjSWfBJFsp"
      },
      "source": [
        "# Salva as informações coletadas da API em um arquivo CSV\n",
        "import csv\n",
        "\n",
        "with open('API_Covid.csv', 'w') as arquivo:\n",
        "  escritor = csv.writer(arquivo)\n",
        "  escritor.writerows(dadosFiltrados)"
      ],
      "execution_count": 7,
      "outputs": []
    },
    {
      "cell_type": "code",
      "metadata": {
        "id": "9fKMdUymIbmG"
      },
      "source": [
        "#Converte a Data\n",
        "import datetime as dt\n",
        "\n",
        "for indice in range(1, len(dadosFiltrados)):\n",
        "  dadosFiltrados[indice][cabecalho['DATA']] = dt.datetime.strptime(dadosFiltrados[indice][cabecalho['DATA']], '%Y-%m-%d')"
      ],
      "execution_count": 8,
      "outputs": []
    },
    {
      "cell_type": "code",
      "metadata": {
        "id": "Jvg_cSUCJued"
      },
      "source": [
        ""
      ],
      "execution_count": null,
      "outputs": []
    },
    {
      "cell_type": "code",
      "metadata": {
        "id": "mHoYde-EK1TS"
      },
      "source": [
        "################################################################################\n",
        "\n",
        "#                      AULA 04 - PROJETO (PARTE 2)\n",
        "\n",
        "################################################################################"
      ],
      "execution_count": null,
      "outputs": []
    },
    {
      "cell_type": "code",
      "metadata": {
        "id": "moggz1mZeGn6"
      },
      "source": [
        "# Documentação API QuickChart\n",
        "'''\n",
        "    https://quickchart.io/documentation/\n",
        "'''"
      ],
      "execution_count": null,
      "outputs": []
    },
    {
      "cell_type": "code",
      "metadata": {
        "id": "_muhzGQwfVjL"
      },
      "source": [
        "# Função para Gerar o Dataset\n",
        "\n",
        "def get_datasets(dadosEixoY, labelsEixoY):\n",
        "  \n",
        "  if(type(dadosEixoY[0])) == list:\n",
        "  \n",
        "    datasets = []\n",
        "    for indice in range(len(dadosEixoY)):\n",
        "      datasets.append({\n",
        "          'label': labelsEixoY[indice],\n",
        "          'data': dadosEixoY[indice]\n",
        "      })\n",
        "\n",
        "    return datasets\n",
        "  \n",
        "  else:\n",
        "    return [{\n",
        "          'label': labelsEixoY[0],\n",
        "          'data': dadosEixoY\n",
        "    }]"
      ],
      "execution_count": 9,
      "outputs": []
    },
    {
      "cell_type": "code",
      "metadata": {
        "id": "5HlrPkknhbNY"
      },
      "source": [
        "# Função para Gerar o Título do Gráfico\n",
        "\n",
        "def set_title(title = ''):\n",
        "\n",
        "  if title != '':\n",
        "    display = 'true'\n",
        "  else:\n",
        "    display = 'false'\n",
        "\n",
        "  return {\n",
        "      'title': title,\n",
        "      'display': display\n",
        "  }"
      ],
      "execution_count": 10,
      "outputs": []
    },
    {
      "cell_type": "code",
      "metadata": {
        "id": "jZETlg1Xi4cj"
      },
      "source": [
        "# Função para Criar a Estrutura que será enviada para a API para que a mesma\n",
        "# gere o Gráfico.\n",
        "\n",
        "def create_chart(dadosEixoX, dadosEixoY, labelsEixoY, kind = 'bar', title = ''):\n",
        "\n",
        "  datasets = get_datasets(dadosEixoY, labelsEixoY)\n",
        "  option = set_title(title)\n",
        "\n",
        "  chart = {\n",
        "      'type': kind,\n",
        "      'data': {\n",
        "          'labels': dadosEixoX,\n",
        "          'datasets': datasets\n",
        "      },\n",
        "      # 'options': options\n",
        "  }\n",
        "\n",
        "  return chart"
      ],
      "execution_count": 11,
      "outputs": []
    },
    {
      "cell_type": "code",
      "metadata": {
        "id": "V3HiE7uVkdbS"
      },
      "source": [
        "# Função que faz a Chamada a API\n",
        "\n",
        "import requests as chamadaAPI\n",
        "\n",
        "def get_api_chart(chart):\n",
        "\n",
        "  url_base = 'https://quickchart.io/chart'\n",
        "\n",
        "  # A API retornará um binário que é a imagem do gráfico.\n",
        "  resp = chamadaAPI.get(f'{url_base}?c={str(chart)}')\n",
        "\n",
        "  return resp.content "
      ],
      "execution_count": 12,
      "outputs": []
    },
    {
      "cell_type": "code",
      "metadata": {
        "id": "Bay71hAymAu3"
      },
      "source": [
        "# Função que Salva a Imagem retornada pela API\n",
        "\n",
        "def save_image(caminho, imagemFormatoBinario):\n",
        "  with open(caminho, 'wb') as arquivo:\n",
        "    arquivo.write(imagemFormatoBinario)\n",
        "    arquivo.flush()"
      ],
      "execution_count": 13,
      "outputs": []
    },
    {
      "cell_type": "code",
      "metadata": {
        "id": "UtwdxQpnmnqB"
      },
      "source": [
        "# Função para Exibir a Imagem do Gráfico gerada pela API\n",
        "\n",
        "from PIL import Image # Para ler os formatos de imagem\n",
        "from IPython.display import display # Para exibir a Imagem no Jupyter Nootebook\n",
        "\n",
        "def exibe_imagem(caminho):\n",
        "  imagem = Image.open(caminho)\n",
        "  display(imagem)"
      ],
      "execution_count": 14,
      "outputs": []
    },
    {
      "cell_type": "code",
      "metadata": {
        "id": "FXePoGO_n7zV"
      },
      "source": [
        "# Trata os Dados para serem enviados para o Gráfico\n",
        "\n",
        "dadosDatas = []\n",
        "dadosCasosMortos = []\n",
        "dadosCasosDoentes = []\n",
        "dadosCasosConfirmados = []\n",
        "dadosCasosRecuperados = []\n",
        "labels = ['Mortos', 'Doentes', 'Confirmados', 'Recuperados']\n",
        "\n",
        "for item in dadosFiltrados[1::100]:\n",
        "  dadosDatas.append(item[cabecalho['DATA']].strftime('%d/%m/%Y'))\n",
        "  dadosCasosMortos.append(item[cabecalho['MORTES']])\n",
        "  dadosCasosDoentes.append(item[cabecalho['DOENTES']])\n",
        "  dadosCasosConfirmados.append(item[cabecalho['CONFIRMADOS']])\n",
        "  dadosCasosRecuperados.append(item[cabecalho['RECUPERADOS']]) "
      ],
      "execution_count": 39,
      "outputs": []
    },
    {
      "cell_type": "code",
      "metadata": {
        "colab": {
          "base_uri": "https://localhost:8080/",
          "height": 508
        },
        "id": "rGdvHV4AqsoN",
        "outputId": "44e803af-d6af-438e-fd84-a1cf0f519251"
      },
      "source": [
        "# Executa todas as funções para a Geração do Gráfico e Exibe o mesmo\n",
        "\n",
        "dadosGrafico = create_chart(\n",
        "    dadosDatas,\n",
        "    [dadosCasosMortos, dadosCasosDoentes, dadosCasosConfirmados, dadosCasosRecuperados],\n",
        "    labels,\n",
        "    title='Números da Covid'\n",
        "    )\n",
        "\n",
        "binarioImagem = get_api_chart(dadosGrafico)\n",
        "save_image('grafico_covid.png', binarioImagem)\n",
        "exibe_imagem('grafico_covid.png')"
      ],
      "execution_count": 40,
      "outputs": [
        {
          "output_type": "display_data",
          "data": {
            "image/png": "[encoded data removed]",
            "text/plain": [
              "<PIL.PngImagePlugin.PngImageFile image mode=RGBA size=1000x600 at 0x7F6F4FEA0D90>"
            ]
          },
          "metadata": {
            "tags": []
          }
        }
      ]
    },
    {
      "cell_type": "code",
      "metadata": {
        "id": "_VFYgxSht5q4"
      },
      "source": [
        "# Chamada a API para que ela gere o QRCode da url do Gráfico\n",
        "\n",
        "from urllib.parse import quote\n",
        "\n",
        "def get_api_qrcode(link):\n",
        "  text = quote(link) # parsing do link para url\n",
        "  url_base_qrcode = 'https://quickchart.io/qr'\n",
        "  resp = chamadaAPI.get(f'{url_base_qrcode}?text={text}')\n",
        "  \n",
        "  return resp.content"
      ],
      "execution_count": 41,
      "outputs": []
    },
    {
      "cell_type": "code",
      "metadata": {
        "colab": {
          "base_uri": "https://localhost:8080/",
          "height": 167
        },
        "id": "LGaCQQblvVMk",
        "outputId": "21816c63-ac2d-4a52-9e97-494e9d8746db"
      },
      "source": [
        "# Gerar QRCode para se visualizar o Gráfico\n",
        "\n",
        "url_base = 'https://quickchart.io/chart'\n",
        "\n",
        "link = f'{url_base}?c={str(dadosGrafico)}'\n",
        "\n",
        "save_image('qr-code.png', get_api_qrcode(link))\n",
        "\n",
        "exibe_imagem('qr-code.png')"
      ],
      "execution_count": 42,
      "outputs": [
        {
          "output_type": "display_data",
          "data": {
            "image/png": "[encoded data removed]",
            "text/plain": [
              "<PIL.PngImagePlugin.PngImageFile image mode=RGBA size=150x150 at 0x7F6F4FEDB3D0>"
            ]
          },
          "metadata": {
            "tags": []
          }
        }
      ]
    },
    {
      "cell_type": "code",
      "metadata": {
        "id": "CMafEiW6x7nY"
      },
      "source": [
        "with open('qr-code.png', 'rb') as arquivo:\n",
        "  teste = arquivo.read()\n",
        "\n",
        "  if teste != '':\n",
        "    print(\"Achou ! =D\")\n",
        "  else:\n",
        "    print(\"Não Achou ! =(\")"
      ],
      "execution_count": null,
      "outputs": []
    },
    {
      "cell_type": "code",
      "metadata": {
        "id": "JTpO35m34PuE"
      },
      "source": [
        "from pathlib import Path\n",
        "\n",
        "img_path = Path('qr-code.png')\n",
        "print(img_path.exists())\n",
        "\n"
      ],
      "execution_count": null,
      "outputs": []
    },
    {
      "cell_type": "code",
      "metadata": {
        "id": "g09lfapU_6JH"
      },
      "source": [
        "################################################################################\n",
        "\n",
        "#                IMPORTANTE ! IMPORTANTE ! IMPORTANTE !\n",
        "\n",
        "################################################################################"
      ],
      "execution_count": null,
      "outputs": []
    },
    {
      "cell_type": "code",
      "metadata": {
        "id": "o5pXnLVC0kxj"
      },
      "source": [
        "'''\n",
        "  Caso a quantidade de informações gerada (variável \"dadosGrafico\") seja muito\n",
        "grande a API não será capaz de gerar um QR-Code e retornará uma imagem em um\n",
        "formato inválido - a extensão do arquivo estará correta, porém, a estrutura do\n",
        "arquivo estará corrompida. Gerando o erro abaixo:\n",
        "\n",
        "---------------------------------------------------------------------------\n",
        "UnidentifiedImageError                    Traceback (most recent call last)\n",
        "<ipython-input-38-31620eafa75c> in <module>()\n",
        "      7 save_image('qr-code.png', get_api_qrcode(link))\n",
        "      8 \n",
        "----> 9 exibe_imagem('qr-code.png')\n",
        "\n",
        "1 frames\n",
        "/usr/local/lib/python3.7/dist-packages/PIL/Image.py in open(fp, mode)\n",
        "   2894         warnings.warn(message)\n",
        "   2895     raise UnidentifiedImageError(\n",
        "-> 2896         \"cannot identify image file %r\" % (filename if filename else fp)\n",
        "   2897     )\n",
        "   2898 \n",
        "\n",
        "UnidentifiedImageError: cannot identify image file 'qr-code.png'\n",
        "---------------------------------------------------------------------------\n",
        "\n",
        "  Para gerar este erro, podemos, por exemplo, alterar o filtro da quantidade de\n",
        "dados para que invés de serem lidas 1 em cada 100 linhas do arquivo com os\n",
        "dados de Covid (for item in dadosFiltrados[1::100]:), sejam lidas 1 em cada 10\n",
        "linhas (for item in dadosFiltrados[1::10]:).\n",
        "\n",
        "OBS.: É possível testar a geração do QR-Code através do endereço\n",
        "'https://quickchart.io/qr-code-api/'. Basta colocar o conteúdo da variável 'text'\n",
        "da função 'get_api_qrcode' no campo 'QR text' do site. Caso a quantidade de\n",
        "informação seja muito grande, o site não exibirá o QR-Code.\n",
        "'''"
      ],
      "execution_count": null,
      "outputs": []
    }
  ]
}