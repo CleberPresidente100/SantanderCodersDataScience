{
  "nbformat": 4,
  "nbformat_minor": 0,
  "metadata": {
    "colab": {
      "name": "Santander_Fase2.ipynb",
      "provenance": []
    },
    "kernelspec": {
      "name": "python3",
      "display_name": "Python 3"
    },
    "language_info": {
      "name": "python"
    }
  },
  "cells": [
    {
      "cell_type": "code",
      "metadata": {
        "id": "M1khARXBa_tF"
      },
      "source": [
        "################################################################################\n",
        "\n",
        "#                            AULAS - BASICO\n",
        "\n",
        "################################################################################"
      ],
      "execution_count": null,
      "outputs": []
    },
    {
      "cell_type": "code",
      "metadata": {
        "id": "PTMqprauewts"
      },
      "source": [
        "################################################################################\n",
        "\n",
        "#                               AULA 03\n",
        "\n",
        "################################################################################"
      ],
      "execution_count": null,
      "outputs": []
    },
    {
      "cell_type": "code",
      "metadata": {
        "id": "uUInNiNXYSvR"
      },
      "source": [
        "# COMENTÁRIOS\n",
        "\n",
        "# O símbolo # é utilizado para se fazer um comentário simples.\n",
        "'''\n",
        "Para comentários de múltiplas linhas,\n",
        "são utilizadas 3 aspas simples.\n",
        "'''"
      ],
      "execution_count": null,
      "outputs": []
    },
    {
      "cell_type": "code",
      "metadata": {
        "id": "juhdu5HuXkWH"
      },
      "source": [
        "# VARIÁVEIS\n",
        "x = -10 # uma variável do tipo inteiro (int)\n",
        "y = 3.14 # uma variável do tipo real (float)\n",
        "escola = \"Let's Code\" # uma variável literal (string). As strings podem ser delimitadas por aspas simples ou duplas.\n",
        "primeiraAula = True # uma variável lógica (booleana). Os nomes True e False precisam começar com letra maúscula.\n"
      ],
      "execution_count": null,
      "outputs": []
    },
    {
      "cell_type": "code",
      "metadata": {
        "id": "mEg78VItX-i0"
      },
      "source": [
        "# FUNÇÃO TYPE\n",
        "# A função type() retorna o tipo da variável\n",
        "c = 10\n",
        "\n",
        "print(type(c))"
      ],
      "execution_count": null,
      "outputs": []
    },
    {
      "cell_type": "code",
      "metadata": {
        "id": "E_J3o-bnbNbK"
      },
      "source": [
        "################################################################################\n",
        "\n",
        "#                               AULA 04\n",
        "\n",
        "################################################################################"
      ],
      "execution_count": null,
      "outputs": []
    },
    {
      "cell_type": "code",
      "metadata": {
        "id": "gjVbjyzmaXi3"
      },
      "source": [
        "# Podemos fazer operações aritméticas simples\n",
        "a = 2 + 3  # Soma\n",
        "b = 2 - 3  # Subtração\n",
        "c = 2 * 3  # Multiplicação\n",
        "d = 2 / 3  # Divisão (O resultado desta divisão será sempre um FLOAT mesmo que ambos os operadores sejam inteiros)\n",
        "e = 2 // 3 # Divisão inteira (O resultado desta divisão será sempre um INTEIRO mesmo que ambos os operadores sejam float, truncando - jogando fora - a parte decimal do número)\n",
        "f = 2 ** 3 # Potência\n",
        "g = 2 % 3  # Resto de divisão\n",
        "\n",
        "print (\"a =\", a, \" b =\", b, \" c =\", c, \" d =\", d, \" e =\", e, \" f =\", f, \" g =\", g)"
      ],
      "execution_count": null,
      "outputs": []
    },
    {
      "cell_type": "code",
      "metadata": {
        "id": "6FFxrcYgbjCw"
      },
      "source": [
        "#Podemos fazer operações com variáveis não inteiras\n",
        "nome = input('Digite seu primeiro nome:')\n",
        "nome = nome + ' Schmitt'\n",
        "print(nome)"
      ],
      "execution_count": null,
      "outputs": []
    },
    {
      "cell_type": "code",
      "metadata": {
        "id": "AvsbI9VlbP8T"
      },
      "source": [
        "# OPERADORES LÓGICOS\n",
        "\n",
        "# not\n",
        "# and\n",
        "# or"
      ],
      "execution_count": null,
      "outputs": []
    },
    {
      "cell_type": "code",
      "metadata": {
        "id": "uMfjIqace_tG"
      },
      "source": [
        "################################################################################\n",
        "\n",
        "#                               AULA 05\n",
        "\n",
        "################################################################################"
      ],
      "execution_count": null,
      "outputs": []
    },
    {
      "cell_type": "code",
      "metadata": {
        "id": "nOwsQC8cfD9e"
      },
      "source": [
        "# Podemos ler valores do teclado com a função input().\n",
        "# Ela permite que a gente passe uma mensagem para o usuário.\n",
        "nome = input('Digite o seu nome: ')\n",
        "\n",
        "# Tudo que é lido por input() é considerado uma string (str).\n",
        "# Para tratar como outros tipos de dados é necessário realizar a conversão:\n",
        "'''\n",
        "int()\n",
        "float()\n",
        "str()\n",
        "bool()\n",
        "'''\n",
        "peso = float(input('Digite o seu peso: ')) # lê o peso como número real\n",
        "idade = int(input('Digite a sua idade: ')) # lê a idade como número inteiro\n",
        "\n",
        "print(nome, 'pesa', peso, 'kg e tem', idade, 'anos de idade.')"
      ],
      "execution_count": null,
      "outputs": []
    },
    {
      "cell_type": "code",
      "metadata": {
        "id": "TE_nr8skingm"
      },
      "source": [
        "################################################################################\n",
        "\n",
        "#                               AULA 06\n",
        "\n",
        "################################################################################"
      ],
      "execution_count": null,
      "outputs": []
    },
    {
      "cell_type": "code",
      "metadata": {
        "id": "94ENtrDoix5X"
      },
      "source": [
        "# IF, ELIF, ELSE"
      ],
      "execution_count": null,
      "outputs": []
    },
    {
      "cell_type": "code",
      "metadata": {
        "id": "QaWRo3g_inrk"
      },
      "source": [
        "exercicios = int(input('Quantos exercícios de Python vc já fez?'))\n",
        "\n",
        "if exercicios > 30:\n",
        "    print('Já está ficando profissional!')\n",
        "elif exercicios > 20:\n",
        "    print('Tá indo bem, bora fazer mais alguns!')\n",
        "elif exercicios > 10:\n",
        "    print('Vamos tirar o atraso?')\n",
        "else:\n",
        "    print('Xiiii...')"
      ],
      "execution_count": null,
      "outputs": []
    },
    {
      "cell_type": "code",
      "metadata": {
        "id": "nIoujy4JmFcR"
      },
      "source": [
        "################################################################################\n",
        "\n",
        "#                               AULA 07\n",
        "\n",
        "################################################################################"
      ],
      "execution_count": null,
      "outputs": []
    },
    {
      "cell_type": "code",
      "metadata": {
        "id": "2zRpCEQNmwz7"
      },
      "source": [
        "# EM PYTHON NÃO EXISTE O LOOPING \"FOR\". PARA SE FAZER UM \"FOR\" É NECESSÁRIO FAZER ISSO ATRAVÉS DE UM \"WHILE\".\n",
        "# EM PYTHON TAMBÉM É POSSÍVEL SE COLOCAR UM \"ELSE\" PARA O WHILE."
      ],
      "execution_count": null,
      "outputs": []
    },
    {
      "cell_type": "code",
      "metadata": {
        "colab": {
          "base_uri": "https://localhost:8080/"
        },
        "id": "z0OzRyAAmG6S",
        "outputId": "fb0be4a3-3d21-4e9a-99ac-1850baf1b062"
      },
      "source": [
        "# Testando a condição em loop com o while:\n",
        "horario = 1\n",
        "while 0 < horario < 6:\n",
        "    print('Você está no horario da madrugada')\n",
        "    horario = horario + 1\n",
        "else:\n",
        "    print('Você nao está no horario da madrugada')"
      ],
      "execution_count": null,
      "outputs": [
        {
          "output_type": "stream",
          "text": [
            "Você está no horario da madrugada\n",
            "Você está no horario da madrugada\n",
            "Você está no horario da madrugada\n",
            "Você está no horario da madrugada\n",
            "Você está no horario da madrugada\n",
            "Você nao está no horario da madrugada\n"
          ],
          "name": "stdout"
        }
      ]
    },
    {
      "cell_type": "code",
      "metadata": {
        "id": "0qnItIJGmviH"
      },
      "source": [
        "# BREAK, CONTINUE\n",
        "# Caso existam whiles aninhados, o break/continue interrompe o looping while no qual ele está imediatemente contido.\n",
        "\n",
        "while True:\n",
        "    resposta = input('Digite OK: ')\n",
        "    if resposta == 'OK':\n",
        "        break\n",
        "\n"
      ],
      "execution_count": null,
      "outputs": []
    },
    {
      "cell_type": "code",
      "metadata": {
        "id": "wEPRpRCHfpUB"
      },
      "source": [
        "################################################################################\n",
        "\n",
        "#                    AULAS - ESTRUTURAS AVANÇADAS\n",
        "\n",
        "################################################################################"
      ],
      "execution_count": null,
      "outputs": []
    },
    {
      "cell_type": "code",
      "metadata": {
        "id": "5b8VG83GfpcR"
      },
      "source": [
        "################################################################################\n",
        "\n",
        "#                     AULA 01 - LISTAS E TUPLAS\n",
        "\n",
        "################################################################################"
      ],
      "execution_count": null,
      "outputs": []
    },
    {
      "cell_type": "code",
      "metadata": {
        "id": "ANAZ_l56itXq"
      },
      "source": [
        "# LISTAS"
      ],
      "execution_count": null,
      "outputs": []
    },
    {
      "cell_type": "code",
      "metadata": {
        "id": "W24j4Watpwp1"
      },
      "source": [
        "# FUNÇÕES E MÉTODOS\n",
        "'''\n",
        "11min30seg\n",
        "A diferença entre funções e métodos é que um método é executado a partir do\n",
        "valor da variável.\n",
        "Ou seja, enquanto a função recebe \"uma variável\" como parâmetro, um método\n",
        "é uma ação que a variável pode executar. É por isso que um método é chamado se\n",
        "colocando um ponto \".\" após a variável.\n",
        "'''"
      ],
      "execution_count": null,
      "outputs": []
    },
    {
      "cell_type": "code",
      "metadata": {
        "id": "MnXXWrcmgAmF"
      },
      "source": [
        "# Criando uma lista vazia.\n",
        "listavazia = []\n",
        "\n",
        "# Criando uma lista com alguns valores.\n",
        "numeros = [1, 3, 7, 8, 9]\n",
        "\n",
        "# Listas podem mesclar diferentes tipos de valores.\n",
        "listamista = [14, \"let's code\", 0.1, True]\n",
        "\n",
        "# Acessamos cada elemento da lista através de um índice entre colchetes.\n",
        "# Os índices começam em 0.\n",
        "print(numeros[0])\n",
        "print(numeros[1])\n",
        "print(numeros[2])\n",
        "print(numeros[3])\n",
        "print(numeros[4])\n",
        "\n",
        "# Também é possível fazer uso de ÍNDICES NEGATIVOS.\n",
        "# Os índices negativos começam do final da lista em direção ao início.\n",
        "print(\"Índices Negativos\")\n",
        "print(numeros[-1]) # Retorna o valor 9\n",
        "print(numeros[-2]) # Retorna o valor 8\n",
        "print(numeros[-3]) # Retorna o valor 7\n",
        "print(numeros[-4]) # Retorna o valor 3\n",
        "print(numeros[-5]) # Retorna o valor 1\n",
        "\n",
        "# Listas são mutáveis: podemos alterar o valor de seus itens.\n",
        "numeros[2] = 5\n",
        "print(numeros)\n",
        "\n",
        "# Um jeito inteligente de trabalhar com listas é utilizando loops.\n",
        "indice = 0\n",
        "while indice < 5:\n",
        "    print(numeros[indice])\n",
        "    indice = indice + 1"
      ],
      "execution_count": null,
      "outputs": []
    },
    {
      "cell_type": "code",
      "metadata": {
        "id": "F3eUzZDOgIt0"
      },
      "source": [
        "# Funções de listas"
      ],
      "execution_count": null,
      "outputs": []
    },
    {
      "cell_type": "code",
      "metadata": {
        "id": "WKs3prBegXDT"
      },
      "source": [
        "# LEN()\n",
        "'''\n",
        "Algumas funções podem nos ajudar a trabalhar com listas.\n",
        "Ao percorrermos nossa lista com um while, poderíamos usar len() caso\n",
        "não soubéssemos o comprimento da lista.\n",
        "'''\n",
        "indice = 0\n",
        "while indice < len(numeros):\n",
        "    print(numeros[indice])\n",
        "    indice = indice + 1"
      ],
      "execution_count": null,
      "outputs": []
    },
    {
      "cell_type": "code",
      "metadata": {
        "id": "C7cCtPKVgI6D"
      },
      "source": [
        "# LISTA.APPEND()\n",
        "'''\n",
        "Outra função útil é lista.append(), que coloca um elemento\n",
        "novo ao final da lista.\n",
        "'''\n",
        "animais = []\n",
        "resposta = 's'\n",
        "while resposta == 's' or resposta == 'S':\n",
        "    resposta = input('Deseja adicionar um animal à lista (s/n)? ')\n",
        "    if (resposta == 's' or resposta == 'S'):\n",
        "        animal = input('Digite o nome do animal: ')\n",
        "        animais.append(animal) # adiciona o novo animal à lista\n",
        "print(animais)"
      ],
      "execution_count": null,
      "outputs": []
    },
    {
      "cell_type": "code",
      "metadata": {
        "id": "4A2as6v-rCHK"
      },
      "source": [
        "# LISTA.INSERT()\n",
        "\n",
        "'''\n",
        "Outra função útil é lista.insert(), que insere um elemento\n",
        "em uma posição específica da lista.\n",
        "'''\n",
        "jogadores = ['Ronaldo', 'Rivaldo', 'Ronaldo', 'Adriano']\n",
        "print(\"ANTES  -->\", jogadores)\n",
        "jogadores.insert(0, \"Cleber\")\n",
        "print(\"DEPOIS -->\", jogadores)"
      ],
      "execution_count": null,
      "outputs": []
    },
    {
      "cell_type": "code",
      "metadata": {
        "id": "5H-FgvFTgJEm"
      },
      "source": [
        "# LISTA.REMOVE()\n",
        "'''\n",
        "A função lista.remove() deleta um elemento da lista.\n",
        "Mas dá erro se o elemento não existir.\n",
        "'''\n",
        "animal = input('Digite o animal a ser deletado da lista: ')\n",
        "animais.remove(animal)\n",
        "print(animais)"
      ],
      "execution_count": null,
      "outputs": []
    },
    {
      "cell_type": "code",
      "metadata": {
        "id": "BT8vBF8wsVl5"
      },
      "source": [
        "# LISTA.POP()\n",
        "\n",
        "'''\n",
        "Outra função útil é lista.pop(), que remove um elemento\n",
        "em uma posição específica da lista.\n",
        "Este método sempre retorna o elemento excluído.\n",
        "'''\n",
        "jogadores = ['Ronaldo', 'Rivaldo', 'Ronaldo', 'Adriano']\n",
        "print(\"ANTES              -->\", jogadores)\n",
        "print(\"ELEMENTO EXCLUÍDO  -->\", jogadores.pop(1))\n",
        "print(\"DEPOIS             -->\", jogadores)"
      ],
      "execution_count": null,
      "outputs": []
    },
    {
      "cell_type": "code",
      "metadata": {
        "id": "pKWMGuMkhEF_"
      },
      "source": [
        "# LISTA.COUNT()\n",
        "'''\n",
        "lista.count() conta quantas vezes um elemento aparece.\n",
        "'''\n",
        "jogadores = ['Ronaldo', 'Rivaldo', 'Ronaldo', 'Adriano']\n",
        "ronaldos = jogadores.count('Ronaldo')\n",
        "print(jogadores)\n",
        "print('Quantidade de Ronaldos: ', ronaldos)"
      ],
      "execution_count": null,
      "outputs": []
    },
    {
      "cell_type": "code",
      "metadata": {
        "colab": {
          "base_uri": "https://localhost:8080/"
        },
        "id": "mgGIvDCyouxl",
        "outputId": "20478988-048e-444b-bfd8-d5968daf8140"
      },
      "source": [
        "# IN\n",
        "'''\n",
        "O comando \"in\" serve para procurar um elemento dentro de uma lista.\n",
        "'''\n",
        "\n",
        "jogadores = ['Ronaldo', 'Rivaldo', 'Ronaldo', 'Adriano']\n",
        "print(\"Ronaldo in jogadores     -->\", \"Ronaldo\" in jogadores)\n",
        "print(\"Cleber in jogadores      -->\", \"Cleber\" in jogadores)\n",
        "print(\"Cleber not in jogadores  -->\", \"Cleber\" not in jogadores)"
      ],
      "execution_count": 16,
      "outputs": [
        {
          "output_type": "stream",
          "text": [
            "Ronaldo in jogadores     --> True\n",
            "Cleber in jogadores      --> False\n",
            "Cleber not in jogadores  --> True\n"
          ],
          "name": "stdout"
        }
      ]
    },
    {
      "cell_type": "code",
      "metadata": {
        "id": "RIsslpLChICb"
      },
      "source": [
        "# LISTA.INDEX()\n",
        "'''\n",
        "lista.index() busca em um elemento e fala em qual posição ele aparece.\n",
        "'''\n",
        "rivaldo = jogadores.index('Rivaldo')\n",
        "print(\"Rivaldo está na posição \", rivaldo)"
      ],
      "execution_count": null,
      "outputs": []
    },
    {
      "cell_type": "code",
      "metadata": {
        "id": "ZPmoR1-yhILd"
      },
      "source": [
        "# LISTA.SORT()\n",
        "'''\n",
        "lista.sort() ordena uma lista.\n",
        "'''\n",
        "jogadores.sort()\n",
        "print(\"jogadores em ordem alfabética: \", jogadores)"
      ],
      "execution_count": null,
      "outputs": []
    },
    {
      "cell_type": "code",
      "metadata": {
        "id": "oxNF2ZHRhIV0"
      },
      "source": [
        "# LISTA.MAX() / LISTA.MIN()\n",
        "'''\n",
        "As funções max(lista) e min(lista) obtém, respectivamente, o maior e o menor valor.\n",
        "'''\n",
        "digitos = [3, 1, 4, 1, 5, 9, 2, 6, 5]\n",
        "maior = max(digitos)\n",
        "menor = min(digitos)\n",
        "print(digitos)\n",
        "print(\"Maior = \", maior, \"e menor = \", menor)"
      ],
      "execution_count": null,
      "outputs": []
    },
    {
      "cell_type": "code",
      "metadata": {
        "id": "Tfl78NVLhIgw"
      },
      "source": [
        "# SLICE\n",
        "'''\n",
        "É possível se obter apenas uma parte de uma lista de forma bem simples utilizando\n",
        "o conceito de Splice. Para isso basta se utilizar da seguinte sintaxe:\n",
        "\n",
        "LISTA[\"índice inicial\" : \"índice final\"]\n",
        "\n",
        "Lembrando que o \"índice final\" é não inclusivo, ou seja, a posição por ele determinada\n",
        "não fará parte da lista resultado.\n",
        "'''\n",
        "# Posição dos Elementos da Lista\n",
        "#                  0          1       2         3             4\n",
        "nomes_paises = [\"Brasil\", \"Canadá\", \"EUA\", \"Austrália\", \"Inglaterra\"]\n",
        "\n",
        "print(\"nomes_paises[1:3]  -->\", nomes_paises[1:3])\n",
        "# Lembrando que no Slice o parâmetro final é não inclusivo, ou seja, o resultado\n",
        "# será uma lista iniciando com o conteúdo da posição 1 da lista nomes_paises\n",
        "# e terminando na posição imediatamente anterio a posição 3, no caso, a \n",
        "# posição 2 da lista nomes_paises.\n",
        "print(\"nomes_paises[1:-1] -->\", nomes_paises[1:-1])\n",
        "print(\"nomes_paises[2:]   -->\", nomes_paises[2:])\n",
        "print(\"nomes_paises[:3]   -->\", nomes_paises[:3])\n",
        "print(\"nomes_paises[:]    -->\", nomes_paises[:])"
      ],
      "execution_count": null,
      "outputs": []
    },
    {
      "cell_type": "code",
      "metadata": {
        "id": "iDsffrp-i1NS"
      },
      "source": [
        "# SLICE com STEP\n",
        "'''\n",
        "Desta forma é possível se pegar elementos de uma lista \"pulando\" um determinado\n",
        "número de elementos com a seguinte sintaxe:\n",
        "\n",
        "LISTA[\"índice inicial\" : \"índice final\" : \"passo/step\"]\n",
        "'''\n",
        "# Posição dos Elementos da Lista\n",
        "#                  0          1       2         3             4\n",
        "nomes_paises = [\"Brasil\", \"Canadá\", \"EUA\", \"Austrália\", \"Inglaterra\"]\n",
        "print(\"nomes_paises[:]    -->\", nomes_paises[:])\n",
        "\n",
        "print(\"nomes_paises[::2]  -->\", nomes_paises[::2])\n",
        "\n",
        "# Também é possível se inverter os elementos de uma lista utilizando um step negativo.\n",
        "print(\"nomes_paises[::-1] -->\", nomes_paises[::-1])\n"
      ],
      "execution_count": null,
      "outputs": []
    },
    {
      "cell_type": "code",
      "metadata": {
        "id": "ecVdNhZLi1TH"
      },
      "source": [
        "# TUPLAS"
      ],
      "execution_count": null,
      "outputs": []
    },
    {
      "cell_type": "code",
      "metadata": {
        "id": "boVee95ei1X_"
      },
      "source": [
        ""
      ],
      "execution_count": null,
      "outputs": []
    },
    {
      "cell_type": "code",
      "metadata": {
        "id": "Hj84qyJJi1cC"
      },
      "source": [
        ""
      ],
      "execution_count": null,
      "outputs": []
    },
    {
      "cell_type": "code",
      "metadata": {
        "id": "pUPviUZki1gY"
      },
      "source": [
        ""
      ],
      "execution_count": null,
      "outputs": []
    },
    {
      "cell_type": "code",
      "metadata": {
        "id": "uDVkvmfhi1j0"
      },
      "source": [
        ""
      ],
      "execution_count": null,
      "outputs": []
    },
    {
      "cell_type": "code",
      "metadata": {
        "id": "4QFoAda-i1m-"
      },
      "source": [
        ""
      ],
      "execution_count": null,
      "outputs": []
    }
  ]
}